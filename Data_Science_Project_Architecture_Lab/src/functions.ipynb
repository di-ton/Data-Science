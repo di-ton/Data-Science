{
 "cells": [
  {
   "cell_type": "code",
   "execution_count": 1,
   "id": "f095dc09-9c37-455f-8597-a9a1cf5aa298",
   "metadata": {},
   "outputs": [],
   "source": [
    "%matplotlib inline"
   ]
  },
  {
   "cell_type": "code",
   "execution_count": 8,
   "id": "2c9117b9-45aa-42f5-b496-afb557e70847",
   "metadata": {},
   "outputs": [],
   "source": [
    "import numpy as np\n",
    "import pandas as pd\n",
    "import matplotlib.pyplot as plt\n"
   ]
  },
  {
   "cell_type": "markdown",
   "id": "d2a55df1-c071-4767-86e4-c6c0c5cb39a6",
   "metadata": {},
   "source": [
    "# Data preparation and manipulation script"
   ]
  },
  {
   "cell_type": "markdown",
   "id": "7d401d47-0003-4b23-9ec4-9c5de89aebdd",
   "metadata": {},
   "source": [
    "## Plot binary features"
   ]
  },
  {
   "cell_type": "code",
   "execution_count": 10,
   "id": "45a89c87-febd-4e34-a752-69bc00fa1370",
   "metadata": {},
   "outputs": [],
   "source": [
    "def plot_binary_feature(dataset, feature):\n",
    "    feature_mapping = {0: 'No', 1: 'Yes'}\n",
    "    feature_counts = dataset.feature.map(feature_mapping).value_counts()\n",
    "    \n",
    "    feature_counts.plot(kind = 'bar')\n",
    "    plt.xlabel(f\"{feature}\")\n",
    "    plt.ylabel('Count')\n",
    "    plt.title(f\"{feature.uppercase()} Distribution\")\n",
    "    plt.xticks(rotation = 0)\n",
    "    return plt.show()"
   ]
  },
  {
   "cell_type": "markdown",
   "id": "56864586-22d7-48f3-91ad-d22beb244158",
   "metadata": {},
   "source": [
    "## Plot categorical features"
   ]
  },
  {
   "cell_type": "code",
   "execution_count": 11,
   "id": "05d3dbbb-dbbb-4902-8d5a-c103412e9f9d",
   "metadata": {},
   "outputs": [],
   "source": [
    "def plot_categorical_feature(dataset, feature, mapping_categories):\n",
    "    feature_mapping = {}\n",
    "    for n in range(len(mapping_categories)):\n",
    "        feature_mapping[n] = mapping_categories[n]\n",
    "    \n",
    "    feature_counts = dataset.feature.map(feature_mapping).value_counts()\n",
    "    \n",
    "    feature_counts.plot(kind = 'bar')\n",
    "    plt.xlabel(f\"{feature}\")\n",
    "    plt.ylabel('Count')\n",
    "    plt.title(f\"{feature.uppercase()} Distribution\")\n",
    "    plt.xticks(rotation = 0)\n",
    "    return plt.show()"
   ]
  },
  {
   "cell_type": "code",
   "execution_count": null,
   "id": "eea8ac52-8abb-48d7-a759-aebcc737dbb1",
   "metadata": {},
   "outputs": [],
   "source": []
  }
 ],
 "metadata": {
  "kernelspec": {
   "display_name": "Python 3 (ipykernel)",
   "language": "python",
   "name": "python3"
  },
  "language_info": {
   "codemirror_mode": {
    "name": "ipython",
    "version": 3
   },
   "file_extension": ".py",
   "mimetype": "text/x-python",
   "name": "python",
   "nbconvert_exporter": "python",
   "pygments_lexer": "ipython3",
   "version": "3.11.7"
  }
 },
 "nbformat": 4,
 "nbformat_minor": 5
}
