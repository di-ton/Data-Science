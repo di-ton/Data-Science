{
 "cells": [
  {
   "cell_type": "code",
   "execution_count": 28,
   "id": "9f084ae7-1e4d-4c56-97aa-d0be7531ecc4",
   "metadata": {},
   "outputs": [],
   "source": [
    "import unittest\n",
    "import pandas as pd\n",
    "import matplotlib.pyplot as plt\n",
    "from matplotlib.testing.decorators import check_figures_equal\n",
    "\n",
    "import importlib\n",
    "import pytest"
   ]
  },
  {
   "cell_type": "code",
   "execution_count": 4,
   "id": "ba765a43-190f-41d8-924b-e44c8d4e68fa",
   "metadata": {},
   "outputs": [],
   "source": [
    "import sys\n",
    "import os\n",
    "\n",
    "src_path = os.path.abspath(os.path.join(os.getcwd(), '../src'))\n",
    "sys.path.insert(0, src_path)\n",
    "\n",
    "spec = importlib.util.spec_from_file_location(\"functions\", os.path.join(src_path, \"functions.py\"))\n",
    "functions = importlib.util.module_from_spec(spec)\n",
    "spec.loader.exec_module(functions)"
   ]
  },
  {
   "cell_type": "code",
   "execution_count": 5,
   "id": "a77394f4-b629-47fe-a983-0a42015e26de",
   "metadata": {},
   "outputs": [],
   "source": [
    "from functions import plot_binary_feature"
   ]
  },
  {
   "cell_type": "code",
   "execution_count": 59,
   "id": "f7bde7f9-2169-4e3e-b240-8e05736f616f",
   "metadata": {},
   "outputs": [],
   "source": [
    "# plot_binary_feature unit tests\n",
    "\n",
    "\n",
    "def is_binary_feature(dataset, feature):\n",
    "    \"\"\"\n",
    "    Check if a feature in the dataset is binary.\n",
    "    \"\"\"\n",
    "    \n",
    "    # Check if the feature has exactly 2 unique values\n",
    "    unique_values = dataset[feature].nunique()\n",
    "    \n",
    "    return unique_values == 2\n",
    "    \n",
    "def test_plot_binary_feature(df):\n",
    "    \"\"\" Test if plot_binary_feature produces the correct plot \"\"\"\n",
    "    # Switch to a non-interactive backend\n",
    "    plt.switch_backend('Agg')\n",
    "    \n",
    "    # Call the function to plot the figure\n",
    "    try:\n",
    "        functions.plot_binary_feature(df, 'feature')\n",
    "    except Exception as e:\n",
    "        pytest.fail(f\"Plotting function raised an exception: {e}\")\n",
    "\n",
    "    # Here, you would typically compare the generated plot with a reference plot\n",
    "    plt.savefig('test_plot.png')\n",
    "    plt.close() \n",
    "\n",
    "\n",
    "def test_invalid_feature_column(df, feature):\n",
    "    \"\"\" Test if the function raises KeyError for invalid column \"\"\"\n",
    "    if feature not in df.columns:\n",
    "        raise KeyError(f\"Feature '{feature}' not found in the dataset\")\n"
   ]
  },
  {
   "cell_type": "code",
   "execution_count": 98,
   "id": "b4bcb840-5f62-4d35-bed2-9d5e74364a51",
   "metadata": {},
   "outputs": [],
   "source": [
    "binary_feature = pd.DataFrame({'feature': [0, 1, 0, 1, 1, 0, 1, 0, 0, 1]})\n",
    "non_binary_feature = pd.DataFrame({'feature': [0, 1, 0, 1, 2, 0, 1, 0, 0, 1, 3, 0, 2]})\n",
    "changed_feature_name = pd.DataFrame({'age': [0, 1, 0, 1, 2, 0, 1, 0, 0, 1, 3, 0, 2]})\n",
    "zero_feature = pd.DataFrame({'feature': [0, 0, 0, 0, 0, 0, 0, 0, 0, 0, 0, 0, 0]})"
   ]
  },
  {
   "cell_type": "code",
   "execution_count": 50,
   "id": "be07cc39-8c98-4485-b4ac-37a19670687c",
   "metadata": {},
   "outputs": [
    {
     "data": {
      "text/plain": [
       "True"
      ]
     },
     "execution_count": 50,
     "metadata": {},
     "output_type": "execute_result"
    }
   ],
   "source": [
    "is_binary_feature(binary_feature, 'feature')"
   ]
  },
  {
   "cell_type": "code",
   "execution_count": 52,
   "id": "2676cafc-7e54-4982-aefd-65881d1797e1",
   "metadata": {},
   "outputs": [
    {
     "name": "stderr",
     "output_type": "stream",
     "text": [
      "C:\\Users\\diton\\Data Science\\07.Data-Science-Project-Architecture-Lab\\src\\functions.py:19: UserWarning: FigureCanvasAgg is non-interactive, and thus cannot be shown\n",
      "  plt.show()\n"
     ]
    }
   ],
   "source": [
    "test_plot_binary_feature(binary_feature)"
   ]
  },
  {
   "cell_type": "code",
   "execution_count": 61,
   "id": "487371d6-1484-4a8c-b163-35e93d0a902d",
   "metadata": {},
   "outputs": [],
   "source": [
    "test_invalid_feature_column(binary_feature, 'feature')"
   ]
  },
  {
   "cell_type": "code",
   "execution_count": 54,
   "id": "81b050b7-3e1b-43ef-85df-bb629d966fe5",
   "metadata": {},
   "outputs": [
    {
     "data": {
      "text/plain": [
       "False"
      ]
     },
     "execution_count": 54,
     "metadata": {},
     "output_type": "execute_result"
    }
   ],
   "source": [
    "is_binary_feature(non_binary_feature, 'feature')"
   ]
  },
  {
   "cell_type": "code",
   "execution_count": 62,
   "id": "fa17595f-c227-42fe-85e2-b1291bbf1662",
   "metadata": {},
   "outputs": [
    {
     "name": "stderr",
     "output_type": "stream",
     "text": [
      "C:\\Users\\diton\\Data Science\\07.Data-Science-Project-Architecture-Lab\\src\\functions.py:19: UserWarning: FigureCanvasAgg is non-interactive, and thus cannot be shown\n",
      "  plt.show()\n"
     ]
    }
   ],
   "source": [
    "test_plot_binary_feature(non_binary_feature)"
   ]
  },
  {
   "cell_type": "code",
   "execution_count": 65,
   "id": "31634b75-8644-4fdb-9e91-4df29009493d",
   "metadata": {},
   "outputs": [],
   "source": [
    "test_invalid_feature_column(non_binary_feature, 'feature')"
   ]
  },
  {
   "cell_type": "code",
   "execution_count": 68,
   "id": "4742fe32-d44b-4c2a-9a7c-e7a3b5eee439",
   "metadata": {},
   "outputs": [
    {
     "data": {
      "text/plain": [
       "False"
      ]
     },
     "execution_count": 68,
     "metadata": {},
     "output_type": "execute_result"
    }
   ],
   "source": [
    "is_binary_feature(changed_feature_name, 'age')"
   ]
  },
  {
   "cell_type": "code",
   "execution_count": 70,
   "id": "f0b2574a-08c1-4ea1-9cee-10a2dab74473",
   "metadata": {},
   "outputs": [
    {
     "ename": "KeyError",
     "evalue": "\"Feature 'feature' not found in the dataset\"",
     "output_type": "error",
     "traceback": [
      "\u001b[1;31m---------------------------------------------------------------------------\u001b[0m",
      "\u001b[1;31mKeyError\u001b[0m                                  Traceback (most recent call last)",
      "Cell \u001b[1;32mIn[70], line 1\u001b[0m\n\u001b[1;32m----> 1\u001b[0m test_invalid_feature_column(changed_feature_name, \u001b[38;5;124m'\u001b[39m\u001b[38;5;124mfeature\u001b[39m\u001b[38;5;124m'\u001b[39m)\n",
      "Cell \u001b[1;32mIn[59], line 33\u001b[0m, in \u001b[0;36mtest_invalid_feature_column\u001b[1;34m(df, feature)\u001b[0m\n\u001b[0;32m     31\u001b[0m \u001b[38;5;250m\u001b[39m\u001b[38;5;124;03m\"\"\" Test if the function raises KeyError for invalid column \"\"\"\u001b[39;00m\n\u001b[0;32m     32\u001b[0m \u001b[38;5;28;01mif\u001b[39;00m feature \u001b[38;5;129;01mnot\u001b[39;00m \u001b[38;5;129;01min\u001b[39;00m df\u001b[38;5;241m.\u001b[39mcolumns:\n\u001b[1;32m---> 33\u001b[0m     \u001b[38;5;28;01mraise\u001b[39;00m \u001b[38;5;167;01mKeyError\u001b[39;00m(\u001b[38;5;124mf\u001b[39m\u001b[38;5;124m\"\u001b[39m\u001b[38;5;124mFeature \u001b[39m\u001b[38;5;124m'\u001b[39m\u001b[38;5;132;01m{\u001b[39;00mfeature\u001b[38;5;132;01m}\u001b[39;00m\u001b[38;5;124m'\u001b[39m\u001b[38;5;124m not found in the dataset\u001b[39m\u001b[38;5;124m\"\u001b[39m)\n",
      "\u001b[1;31mKeyError\u001b[0m: \"Feature 'feature' not found in the dataset\""
     ]
    }
   ],
   "source": [
    "test_invalid_feature_column(changed_feature_name, 'feature')"
   ]
  },
  {
   "cell_type": "code",
   "execution_count": 73,
   "id": "e27cc513-c28d-4810-9e49-519a11d743c4",
   "metadata": {},
   "outputs": [],
   "source": [
    "from functions import plot_categorical_feature"
   ]
  },
  {
   "cell_type": "code",
   "execution_count": 133,
   "id": "561749c1-65a2-43c8-b410-a1d582c9a393",
   "metadata": {},
   "outputs": [],
   "source": [
    "# plot_categorical_feature unit tests\n",
    "\n",
    "def is_categorical_feature(dataset, feature, mapping_categories):\n",
    "    \"\"\"\n",
    "    Check if a feature in the dataset is categorical.\n",
    "    \"\"\"\n",
    "    \n",
    "    # Check if the feature has exactly 2 unique values\n",
    "    unique_values = dataset[feature].nunique()\n",
    "    \n",
    "    return unique_values >= 2\n",
    "\n",
    "def test_plot_categorical_feature(dataset, feature, mapping_categories):\n",
    "    \"\"\" Test if plot_categorical_feature produces the correct plot \"\"\"\n",
    "\n",
    "    # Use a non-interactive backend\n",
    "    plt.switch_backend('Agg')\n",
    "    \n",
    "    # Call the function to plot the figure\n",
    "    try:\n",
    "        plot_categorical_feature(dataset, 'feature', mapping_categories)\n",
    "    except Exception as e:\n",
    "        pytest.fail(f\"Plotting function raised an exception: {e}\")\n",
    "\n",
    "    # Save the plot to a file\n",
    "    plt.savefig('test_categorical_plot.png')\n",
    "    plt.close()  # Close the plot to avoid affecting other tests\n",
    "\n",
    "def test_invalid_feature_column(dataset, feature, mapping_categories):\n",
    "    \"\"\" Test if the function raises KeyError for an invalid column \"\"\"\n",
    "    if feature not in dataset.columns:\n",
    "        raise KeyError(f\"Feature '{feature}' not found in the dataset\")\n"
   ]
  },
  {
   "cell_type": "code",
   "execution_count": 86,
   "id": "85801815-7a05-4fc8-815b-d1cff3e27690",
   "metadata": {},
   "outputs": [
    {
     "name": "stderr",
     "output_type": "stream",
     "text": [
      "C:\\Users\\diton\\Data Science\\07.Data-Science-Project-Architecture-Lab\\src\\functions.py:39: UserWarning: FigureCanvasAgg is non-interactive, and thus cannot be shown\n",
      "  plt.show()\n"
     ]
    }
   ],
   "source": [
    "test_plot_categorical_feature(non_binary_feature, 'feature', ['A', 'B', 'C'])"
   ]
  },
  {
   "cell_type": "code",
   "execution_count": 87,
   "id": "8cfe524f-84e2-4a6c-9598-116d6ef05534",
   "metadata": {},
   "outputs": [],
   "source": [
    "test_invalid_feature_column(non_binary_feature, 'feature', ['A', 'B', 'C'])"
   ]
  },
  {
   "cell_type": "code",
   "execution_count": 99,
   "id": "ae0ffb04-debe-45cb-acde-321396675de2",
   "metadata": {},
   "outputs": [
    {
     "data": {
      "text/plain": [
       "False"
      ]
     },
     "execution_count": 99,
     "metadata": {},
     "output_type": "execute_result"
    }
   ],
   "source": [
    "is_categorical_feature(zero_feature, 'feature', ['A', 'A', 'A'])"
   ]
  },
  {
   "cell_type": "code",
   "execution_count": 105,
   "id": "4529da6b-c964-48da-aba4-3910e48cb292",
   "metadata": {},
   "outputs": [
    {
     "ename": "KeyError",
     "evalue": "\"Feature 'age' not found in the dataset\"",
     "output_type": "error",
     "traceback": [
      "\u001b[1;31m---------------------------------------------------------------------------\u001b[0m",
      "\u001b[1;31mKeyError\u001b[0m                                  Traceback (most recent call last)",
      "Cell \u001b[1;32mIn[105], line 1\u001b[0m\n\u001b[1;32m----> 1\u001b[0m test_invalid_feature_column(zero_feature, \u001b[38;5;124m'\u001b[39m\u001b[38;5;124mage\u001b[39m\u001b[38;5;124m'\u001b[39m, [\u001b[38;5;124m'\u001b[39m\u001b[38;5;124mA\u001b[39m\u001b[38;5;124m'\u001b[39m, \u001b[38;5;124m'\u001b[39m\u001b[38;5;124mB\u001b[39m\u001b[38;5;124m'\u001b[39m, \u001b[38;5;124m'\u001b[39m\u001b[38;5;124mC\u001b[39m\u001b[38;5;124m'\u001b[39m])\n",
      "Cell \u001b[1;32mIn[104], line 32\u001b[0m, in \u001b[0;36mtest_invalid_feature_column\u001b[1;34m(dataset, feature, mapping_categories)\u001b[0m\n\u001b[0;32m     30\u001b[0m \u001b[38;5;250m\u001b[39m\u001b[38;5;124;03m\"\"\" Test if the function raises KeyError for an invalid column \"\"\"\u001b[39;00m\n\u001b[0;32m     31\u001b[0m \u001b[38;5;28;01mif\u001b[39;00m feature \u001b[38;5;129;01mnot\u001b[39;00m \u001b[38;5;129;01min\u001b[39;00m df\u001b[38;5;241m.\u001b[39mcolumns:\n\u001b[1;32m---> 32\u001b[0m     \u001b[38;5;28;01mraise\u001b[39;00m \u001b[38;5;167;01mKeyError\u001b[39;00m(\u001b[38;5;124mf\u001b[39m\u001b[38;5;124m\"\u001b[39m\u001b[38;5;124mFeature \u001b[39m\u001b[38;5;124m'\u001b[39m\u001b[38;5;132;01m{\u001b[39;00mfeature\u001b[38;5;132;01m}\u001b[39;00m\u001b[38;5;124m'\u001b[39m\u001b[38;5;124m not found in the dataset\u001b[39m\u001b[38;5;124m\"\u001b[39m)\n",
      "\u001b[1;31mKeyError\u001b[0m: \"Feature 'age' not found in the dataset\""
     ]
    }
   ],
   "source": [
    "test_invalid_feature_column(zero_feature, 'age', ['A', 'B', 'C'])"
   ]
  },
  {
   "cell_type": "code",
   "execution_count": 108,
   "id": "110698f9-f6da-49a3-b610-5b8869266c9f",
   "metadata": {},
   "outputs": [],
   "source": [
    "from functions import plot_histogram_feature"
   ]
  },
  {
   "cell_type": "code",
   "execution_count": 134,
   "id": "3327ee58-61cd-4d1a-bad3-b40a1eee26a9",
   "metadata": {},
   "outputs": [],
   "source": [
    "# plot_histogram_feature unit tests\n",
    "\n",
    "def is_continous_feature(dataset, feature):\n",
    "    \"\"\"\n",
    "    Check if a feature in the dataset is continous.\n",
    "    \"\"\"\n",
    "    \n",
    "    if len(dataset[feature].unique()) > 1 and not dataset[feature].astype(int).eq(dataset[feature]).all():\n",
    "        return True\n",
    "    return False\n",
    "\n",
    "def test_plot_histogram_feature(dataset, feature):\n",
    "    \"\"\" Test if plot_histogram_feature produces the correct plot \"\"\"\n",
    "\n",
    "    # Use a non-interactive backend\n",
    "    plt.switch_backend('Agg')\n",
    "    \n",
    "    # Call the function to plot the figure\n",
    "    try:\n",
    "        plot_histogram_feature(dataset, feature)\n",
    "    except Exception as e:\n",
    "        pytest.fail(f\"Plotting function raised an exception: {e}\")\n",
    "\n",
    "    # Save the plot to a file\n",
    "    plt.savefig('test_histogram_plot.png')\n",
    "    plt.close()  # Close the plot to avoid affecting other tests\n",
    "\n",
    "def test_invalid_feature_column(dataset, feature):\n",
    "    \"\"\" Test if the function raises KeyError for an invalid column \"\"\"\n",
    "    if feature not in dataset.columns:\n",
    "        raise KeyError(f\"Feature '{feature}' not found in the dataset\")"
   ]
  },
  {
   "cell_type": "code",
   "execution_count": 125,
   "id": "900e5d38-18d6-445f-a23a-91aed8489334",
   "metadata": {},
   "outputs": [],
   "source": [
    "continous_data = pd.DataFrame({\n",
    "        'continuous_feature': [1.2, 2.3, 3.4, 4.5, 5.6],\n",
    "    })"
   ]
  },
  {
   "cell_type": "code",
   "execution_count": 126,
   "id": "97ffa760-8771-49ec-910f-820062b056d8",
   "metadata": {},
   "outputs": [
    {
     "data": {
      "text/plain": [
       "True"
      ]
     },
     "execution_count": 126,
     "metadata": {},
     "output_type": "execute_result"
    }
   ],
   "source": [
    "is_continous_feature(continous_data, 'continuous_feature')"
   ]
  },
  {
   "cell_type": "code",
   "execution_count": 127,
   "id": "1e617867-8359-4f50-b4ba-562fc5cc4612",
   "metadata": {},
   "outputs": [
    {
     "data": {
      "text/plain": [
       "False"
      ]
     },
     "execution_count": 127,
     "metadata": {},
     "output_type": "execute_result"
    }
   ],
   "source": [
    "is_continous_feature(zero_feature, 'feature')"
   ]
  },
  {
   "cell_type": "code",
   "execution_count": 128,
   "id": "71aab657-90ea-4317-ac1d-ec2dad444de9",
   "metadata": {},
   "outputs": [
    {
     "data": {
      "text/plain": [
       "False"
      ]
     },
     "execution_count": 128,
     "metadata": {},
     "output_type": "execute_result"
    }
   ],
   "source": [
    "is_continous_feature(non_binary_feature, 'feature')"
   ]
  },
  {
   "cell_type": "code",
   "execution_count": 129,
   "id": "72b9490b-ee71-446e-97d6-d7bac738ae89",
   "metadata": {},
   "outputs": [
    {
     "name": "stderr",
     "output_type": "stream",
     "text": [
      "C:\\Users\\diton\\Data Science\\07.Data-Science-Project-Architecture-Lab\\src\\functions.py:52: UserWarning: FigureCanvasAgg is non-interactive, and thus cannot be shown\n",
      "  plt.show()\n"
     ]
    }
   ],
   "source": [
    "test_plot_histogram_feature(continous_data, 'continuous_feature')"
   ]
  },
  {
   "cell_type": "code",
   "execution_count": 135,
   "id": "2e2b08f6-d132-48f5-87d1-ae20506a61ed",
   "metadata": {},
   "outputs": [],
   "source": [
    "test_invalid_feature_column(continous_data, 'continuous_feature')"
   ]
  },
  {
   "cell_type": "code",
   "execution_count": null,
   "id": "86d18edf-cc44-4236-8b5b-ffc973ad9add",
   "metadata": {},
   "outputs": [],
   "source": []
  }
 ],
 "metadata": {
  "kernelspec": {
   "display_name": "Python 3 (ipykernel)",
   "language": "python",
   "name": "python3"
  },
  "language_info": {
   "codemirror_mode": {
    "name": "ipython",
    "version": 3
   },
   "file_extension": ".py",
   "mimetype": "text/x-python",
   "name": "python",
   "nbconvert_exporter": "python",
   "pygments_lexer": "ipython3",
   "version": "3.11.7"
  }
 },
 "nbformat": 4,
 "nbformat_minor": 5
}
