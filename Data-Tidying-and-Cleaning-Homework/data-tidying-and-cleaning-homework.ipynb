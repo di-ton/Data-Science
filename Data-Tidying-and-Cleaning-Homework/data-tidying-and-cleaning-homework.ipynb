{
 "cells": [
  {
   "cell_type": "code",
   "execution_count": 1,
   "id": "3f0c2715-fd2d-4b96-8413-3c472b64702f",
   "metadata": {},
   "outputs": [],
   "source": [
    "%matplotlib inline"
   ]
  },
  {
   "cell_type": "code",
   "execution_count": 134,
   "id": "078d90d4-aec6-40fe-997f-ce63c962d936",
   "metadata": {},
   "outputs": [],
   "source": [
    "import numpy as np\n",
    "import pandas as pd\n",
    "import matplotlib.pyplot as plt\n",
    "import seaborn as sns"
   ]
  },
  {
   "cell_type": "markdown",
   "id": "02aa71be-5d01-4efc-85fa-a019fe92a39a",
   "metadata": {},
   "source": [
    "# Data Tidying and Cleaning Lab\n",
    "## Reading, tidying and cleaning data. Preparing data for exploration, mining, analysis and learning"
   ]
  },
  {
   "cell_type": "markdown",
   "id": "259927d3-4ad5-471e-b34b-114f07127a39",
   "metadata": {},
   "source": [
    "In this lab, you'll be working with the Coffee Quality Index dataset, located [here](https://www.kaggle.com/datasets/volpatto/coffee-quality-database-from-cqi). For convenience (and to save trouble in case you can't download files, or someone uploads a newer version), I've provided the dataset in the `data/` folder. The metadata (description) is at the Kaggle link. For this lab, you'll only need `merged_data_cleaned.csv`, as it is the concatenation of the other two datasets.\n",
    "\n",
    "In this (and the following labs), you'll get several questions and problems. Do your analysis, describe it, use any tools and plots you wish, and answer. You can create any amount of cells you'd like.\n",
    "\n",
    "Sometimes, the answers will not be unique, and they will depend on how you decide to approach and solve the problem. This is usual - we're doing science after all!\n",
    "\n",
    "It's a good idea to save your clean dataset after all the work you've done to it."
   ]
  },
  {
   "cell_type": "markdown",
   "id": "4450ac8e-523c-46f8-a410-9ad5af4cfc14",
   "metadata": {},
   "source": [
    "### Problem 1. Read the dataset (1 point)\n",
    "This should be self-explanatory. The first column is the index."
   ]
  },
  {
   "cell_type": "code",
   "execution_count": 3,
   "id": "df50bd71-ea2a-4db9-814d-c49f782ca101",
   "metadata": {},
   "outputs": [],
   "source": [
    "coffee_dataset = pd.read_csv(\"data/merged_data_cleaned.csv\", index_col = 0)"
   ]
  },
  {
   "cell_type": "code",
   "execution_count": 4,
   "id": "2d9727af-be4c-487b-83da-a867ec67e8e9",
   "metadata": {},
   "outputs": [
    {
     "data": {
      "text/html": [
       "<div>\n",
       "<style scoped>\n",
       "    .dataframe tbody tr th:only-of-type {\n",
       "        vertical-align: middle;\n",
       "    }\n",
       "\n",
       "    .dataframe tbody tr th {\n",
       "        vertical-align: top;\n",
       "    }\n",
       "\n",
       "    .dataframe thead th {\n",
       "        text-align: right;\n",
       "    }\n",
       "</style>\n",
       "<table border=\"1\" class=\"dataframe\">\n",
       "  <thead>\n",
       "    <tr style=\"text-align: right;\">\n",
       "      <th></th>\n",
       "      <th>Species</th>\n",
       "      <th>Owner</th>\n",
       "      <th>Country.of.Origin</th>\n",
       "      <th>Farm.Name</th>\n",
       "      <th>Lot.Number</th>\n",
       "      <th>Mill</th>\n",
       "      <th>ICO.Number</th>\n",
       "      <th>Company</th>\n",
       "      <th>Altitude</th>\n",
       "      <th>Region</th>\n",
       "      <th>...</th>\n",
       "      <th>Color</th>\n",
       "      <th>Category.Two.Defects</th>\n",
       "      <th>Expiration</th>\n",
       "      <th>Certification.Body</th>\n",
       "      <th>Certification.Address</th>\n",
       "      <th>Certification.Contact</th>\n",
       "      <th>unit_of_measurement</th>\n",
       "      <th>altitude_low_meters</th>\n",
       "      <th>altitude_high_meters</th>\n",
       "      <th>altitude_mean_meters</th>\n",
       "    </tr>\n",
       "  </thead>\n",
       "  <tbody>\n",
       "    <tr>\n",
       "      <th>0</th>\n",
       "      <td>Arabica</td>\n",
       "      <td>metad plc</td>\n",
       "      <td>Ethiopia</td>\n",
       "      <td>metad plc</td>\n",
       "      <td>NaN</td>\n",
       "      <td>metad plc</td>\n",
       "      <td>2014/2015</td>\n",
       "      <td>metad agricultural developmet plc</td>\n",
       "      <td>1950-2200</td>\n",
       "      <td>guji-hambela</td>\n",
       "      <td>...</td>\n",
       "      <td>Green</td>\n",
       "      <td>0</td>\n",
       "      <td>April 3rd, 2016</td>\n",
       "      <td>METAD Agricultural Development plc</td>\n",
       "      <td>309fcf77415a3661ae83e027f7e5f05dad786e44</td>\n",
       "      <td>19fef5a731de2db57d16da10287413f5f99bc2dd</td>\n",
       "      <td>m</td>\n",
       "      <td>1950.0</td>\n",
       "      <td>2200.0</td>\n",
       "      <td>2075.0</td>\n",
       "    </tr>\n",
       "    <tr>\n",
       "      <th>1</th>\n",
       "      <td>Arabica</td>\n",
       "      <td>metad plc</td>\n",
       "      <td>Ethiopia</td>\n",
       "      <td>metad plc</td>\n",
       "      <td>NaN</td>\n",
       "      <td>metad plc</td>\n",
       "      <td>2014/2015</td>\n",
       "      <td>metad agricultural developmet plc</td>\n",
       "      <td>1950-2200</td>\n",
       "      <td>guji-hambela</td>\n",
       "      <td>...</td>\n",
       "      <td>Green</td>\n",
       "      <td>1</td>\n",
       "      <td>April 3rd, 2016</td>\n",
       "      <td>METAD Agricultural Development plc</td>\n",
       "      <td>309fcf77415a3661ae83e027f7e5f05dad786e44</td>\n",
       "      <td>19fef5a731de2db57d16da10287413f5f99bc2dd</td>\n",
       "      <td>m</td>\n",
       "      <td>1950.0</td>\n",
       "      <td>2200.0</td>\n",
       "      <td>2075.0</td>\n",
       "    </tr>\n",
       "    <tr>\n",
       "      <th>2</th>\n",
       "      <td>Arabica</td>\n",
       "      <td>grounds for health admin</td>\n",
       "      <td>Guatemala</td>\n",
       "      <td>san marcos barrancas \"san cristobal cuch</td>\n",
       "      <td>NaN</td>\n",
       "      <td>NaN</td>\n",
       "      <td>NaN</td>\n",
       "      <td>NaN</td>\n",
       "      <td>1600 - 1800 m</td>\n",
       "      <td>NaN</td>\n",
       "      <td>...</td>\n",
       "      <td>NaN</td>\n",
       "      <td>0</td>\n",
       "      <td>May 31st, 2011</td>\n",
       "      <td>Specialty Coffee Association</td>\n",
       "      <td>36d0d00a3724338ba7937c52a378d085f2172daa</td>\n",
       "      <td>0878a7d4b9d35ddbf0fe2ce69a2062cceb45a660</td>\n",
       "      <td>m</td>\n",
       "      <td>1600.0</td>\n",
       "      <td>1800.0</td>\n",
       "      <td>1700.0</td>\n",
       "    </tr>\n",
       "    <tr>\n",
       "      <th>3</th>\n",
       "      <td>Arabica</td>\n",
       "      <td>yidnekachew dabessa</td>\n",
       "      <td>Ethiopia</td>\n",
       "      <td>yidnekachew dabessa coffee plantation</td>\n",
       "      <td>NaN</td>\n",
       "      <td>wolensu</td>\n",
       "      <td>NaN</td>\n",
       "      <td>yidnekachew debessa coffee plantation</td>\n",
       "      <td>1800-2200</td>\n",
       "      <td>oromia</td>\n",
       "      <td>...</td>\n",
       "      <td>Green</td>\n",
       "      <td>2</td>\n",
       "      <td>March 25th, 2016</td>\n",
       "      <td>METAD Agricultural Development plc</td>\n",
       "      <td>309fcf77415a3661ae83e027f7e5f05dad786e44</td>\n",
       "      <td>19fef5a731de2db57d16da10287413f5f99bc2dd</td>\n",
       "      <td>m</td>\n",
       "      <td>1800.0</td>\n",
       "      <td>2200.0</td>\n",
       "      <td>2000.0</td>\n",
       "    </tr>\n",
       "    <tr>\n",
       "      <th>4</th>\n",
       "      <td>Arabica</td>\n",
       "      <td>metad plc</td>\n",
       "      <td>Ethiopia</td>\n",
       "      <td>metad plc</td>\n",
       "      <td>NaN</td>\n",
       "      <td>metad plc</td>\n",
       "      <td>2014/2015</td>\n",
       "      <td>metad agricultural developmet plc</td>\n",
       "      <td>1950-2200</td>\n",
       "      <td>guji-hambela</td>\n",
       "      <td>...</td>\n",
       "      <td>Green</td>\n",
       "      <td>2</td>\n",
       "      <td>April 3rd, 2016</td>\n",
       "      <td>METAD Agricultural Development plc</td>\n",
       "      <td>309fcf77415a3661ae83e027f7e5f05dad786e44</td>\n",
       "      <td>19fef5a731de2db57d16da10287413f5f99bc2dd</td>\n",
       "      <td>m</td>\n",
       "      <td>1950.0</td>\n",
       "      <td>2200.0</td>\n",
       "      <td>2075.0</td>\n",
       "    </tr>\n",
       "    <tr>\n",
       "      <th>...</th>\n",
       "      <td>...</td>\n",
       "      <td>...</td>\n",
       "      <td>...</td>\n",
       "      <td>...</td>\n",
       "      <td>...</td>\n",
       "      <td>...</td>\n",
       "      <td>...</td>\n",
       "      <td>...</td>\n",
       "      <td>...</td>\n",
       "      <td>...</td>\n",
       "      <td>...</td>\n",
       "      <td>...</td>\n",
       "      <td>...</td>\n",
       "      <td>...</td>\n",
       "      <td>...</td>\n",
       "      <td>...</td>\n",
       "      <td>...</td>\n",
       "      <td>...</td>\n",
       "      <td>...</td>\n",
       "      <td>...</td>\n",
       "      <td>...</td>\n",
       "    </tr>\n",
       "    <tr>\n",
       "      <th>1334</th>\n",
       "      <td>Robusta</td>\n",
       "      <td>luis robles</td>\n",
       "      <td>Ecuador</td>\n",
       "      <td>robustasa</td>\n",
       "      <td>Lavado 1</td>\n",
       "      <td>our own lab</td>\n",
       "      <td>NaN</td>\n",
       "      <td>robustasa</td>\n",
       "      <td>NaN</td>\n",
       "      <td>san juan, playas</td>\n",
       "      <td>...</td>\n",
       "      <td>Blue-Green</td>\n",
       "      <td>1</td>\n",
       "      <td>January 18th, 2017</td>\n",
       "      <td>Specialty Coffee Association</td>\n",
       "      <td>ff7c18ad303d4b603ac3f8cff7e611ffc735e720</td>\n",
       "      <td>352d0cf7f3e9be14dad7df644ad65efc27605ae2</td>\n",
       "      <td>m</td>\n",
       "      <td>NaN</td>\n",
       "      <td>NaN</td>\n",
       "      <td>NaN</td>\n",
       "    </tr>\n",
       "    <tr>\n",
       "      <th>1335</th>\n",
       "      <td>Robusta</td>\n",
       "      <td>luis robles</td>\n",
       "      <td>Ecuador</td>\n",
       "      <td>robustasa</td>\n",
       "      <td>Lavado 3</td>\n",
       "      <td>own laboratory</td>\n",
       "      <td>NaN</td>\n",
       "      <td>robustasa</td>\n",
       "      <td>40</td>\n",
       "      <td>san juan, playas</td>\n",
       "      <td>...</td>\n",
       "      <td>Blue-Green</td>\n",
       "      <td>0</td>\n",
       "      <td>January 18th, 2017</td>\n",
       "      <td>Specialty Coffee Association</td>\n",
       "      <td>ff7c18ad303d4b603ac3f8cff7e611ffc735e720</td>\n",
       "      <td>352d0cf7f3e9be14dad7df644ad65efc27605ae2</td>\n",
       "      <td>m</td>\n",
       "      <td>40.0</td>\n",
       "      <td>40.0</td>\n",
       "      <td>40.0</td>\n",
       "    </tr>\n",
       "    <tr>\n",
       "      <th>1336</th>\n",
       "      <td>Robusta</td>\n",
       "      <td>james moore</td>\n",
       "      <td>United States</td>\n",
       "      <td>fazenda cazengo</td>\n",
       "      <td>NaN</td>\n",
       "      <td>cafe cazengo</td>\n",
       "      <td>NaN</td>\n",
       "      <td>global opportunity fund</td>\n",
       "      <td>795 meters</td>\n",
       "      <td>kwanza norte province, angola</td>\n",
       "      <td>...</td>\n",
       "      <td>NaN</td>\n",
       "      <td>6</td>\n",
       "      <td>December 23rd, 2015</td>\n",
       "      <td>Specialty Coffee Association</td>\n",
       "      <td>ff7c18ad303d4b603ac3f8cff7e611ffc735e720</td>\n",
       "      <td>352d0cf7f3e9be14dad7df644ad65efc27605ae2</td>\n",
       "      <td>m</td>\n",
       "      <td>795.0</td>\n",
       "      <td>795.0</td>\n",
       "      <td>795.0</td>\n",
       "    </tr>\n",
       "    <tr>\n",
       "      <th>1337</th>\n",
       "      <td>Robusta</td>\n",
       "      <td>cafe politico</td>\n",
       "      <td>India</td>\n",
       "      <td>NaN</td>\n",
       "      <td>NaN</td>\n",
       "      <td>NaN</td>\n",
       "      <td>14-1118-2014-0087</td>\n",
       "      <td>cafe politico</td>\n",
       "      <td>NaN</td>\n",
       "      <td>NaN</td>\n",
       "      <td>...</td>\n",
       "      <td>Green</td>\n",
       "      <td>1</td>\n",
       "      <td>August 25th, 2015</td>\n",
       "      <td>Specialty Coffee Association</td>\n",
       "      <td>ff7c18ad303d4b603ac3f8cff7e611ffc735e720</td>\n",
       "      <td>352d0cf7f3e9be14dad7df644ad65efc27605ae2</td>\n",
       "      <td>m</td>\n",
       "      <td>NaN</td>\n",
       "      <td>NaN</td>\n",
       "      <td>NaN</td>\n",
       "    </tr>\n",
       "    <tr>\n",
       "      <th>1338</th>\n",
       "      <td>Robusta</td>\n",
       "      <td>cafe politico</td>\n",
       "      <td>Vietnam</td>\n",
       "      <td>NaN</td>\n",
       "      <td>NaN</td>\n",
       "      <td>NaN</td>\n",
       "      <td>NaN</td>\n",
       "      <td>cafe politico</td>\n",
       "      <td>NaN</td>\n",
       "      <td>NaN</td>\n",
       "      <td>...</td>\n",
       "      <td>NaN</td>\n",
       "      <td>9</td>\n",
       "      <td>August 25th, 2015</td>\n",
       "      <td>Specialty Coffee Association</td>\n",
       "      <td>ff7c18ad303d4b603ac3f8cff7e611ffc735e720</td>\n",
       "      <td>352d0cf7f3e9be14dad7df644ad65efc27605ae2</td>\n",
       "      <td>m</td>\n",
       "      <td>NaN</td>\n",
       "      <td>NaN</td>\n",
       "      <td>NaN</td>\n",
       "    </tr>\n",
       "  </tbody>\n",
       "</table>\n",
       "<p>1339 rows × 43 columns</p>\n",
       "</div>"
      ],
      "text/plain": [
       "      Species                     Owner Country.of.Origin  \\\n",
       "0     Arabica                 metad plc          Ethiopia   \n",
       "1     Arabica                 metad plc          Ethiopia   \n",
       "2     Arabica  grounds for health admin         Guatemala   \n",
       "3     Arabica       yidnekachew dabessa          Ethiopia   \n",
       "4     Arabica                 metad plc          Ethiopia   \n",
       "...       ...                       ...               ...   \n",
       "1334  Robusta               luis robles           Ecuador   \n",
       "1335  Robusta               luis robles           Ecuador   \n",
       "1336  Robusta               james moore     United States   \n",
       "1337  Robusta             cafe politico             India   \n",
       "1338  Robusta             cafe politico           Vietnam   \n",
       "\n",
       "                                     Farm.Name Lot.Number            Mill  \\\n",
       "0                                    metad plc        NaN       metad plc   \n",
       "1                                    metad plc        NaN       metad plc   \n",
       "2     san marcos barrancas \"san cristobal cuch        NaN             NaN   \n",
       "3        yidnekachew dabessa coffee plantation        NaN         wolensu   \n",
       "4                                    metad plc        NaN       metad plc   \n",
       "...                                        ...        ...             ...   \n",
       "1334                                 robustasa   Lavado 1     our own lab   \n",
       "1335                                 robustasa   Lavado 3  own laboratory   \n",
       "1336                           fazenda cazengo        NaN    cafe cazengo   \n",
       "1337                                       NaN        NaN             NaN   \n",
       "1338                                       NaN        NaN             NaN   \n",
       "\n",
       "             ICO.Number                                Company       Altitude  \\\n",
       "0             2014/2015      metad agricultural developmet plc      1950-2200   \n",
       "1             2014/2015      metad agricultural developmet plc      1950-2200   \n",
       "2                   NaN                                    NaN  1600 - 1800 m   \n",
       "3                   NaN  yidnekachew debessa coffee plantation      1800-2200   \n",
       "4             2014/2015      metad agricultural developmet plc      1950-2200   \n",
       "...                 ...                                    ...            ...   \n",
       "1334                NaN                              robustasa            NaN   \n",
       "1335                NaN                              robustasa             40   \n",
       "1336                NaN                global opportunity fund     795 meters   \n",
       "1337  14-1118-2014-0087                          cafe politico            NaN   \n",
       "1338                NaN                          cafe politico            NaN   \n",
       "\n",
       "                             Region  ...       Color  Category.Two.Defects  \\\n",
       "0                      guji-hambela  ...       Green                     0   \n",
       "1                      guji-hambela  ...       Green                     1   \n",
       "2                               NaN  ...         NaN                     0   \n",
       "3                            oromia  ...       Green                     2   \n",
       "4                      guji-hambela  ...       Green                     2   \n",
       "...                             ...  ...         ...                   ...   \n",
       "1334               san juan, playas  ...  Blue-Green                     1   \n",
       "1335               san juan, playas  ...  Blue-Green                     0   \n",
       "1336  kwanza norte province, angola  ...         NaN                     6   \n",
       "1337                            NaN  ...       Green                     1   \n",
       "1338                            NaN  ...         NaN                     9   \n",
       "\n",
       "               Expiration                  Certification.Body  \\\n",
       "0         April 3rd, 2016  METAD Agricultural Development plc   \n",
       "1         April 3rd, 2016  METAD Agricultural Development plc   \n",
       "2          May 31st, 2011        Specialty Coffee Association   \n",
       "3        March 25th, 2016  METAD Agricultural Development plc   \n",
       "4         April 3rd, 2016  METAD Agricultural Development plc   \n",
       "...                   ...                                 ...   \n",
       "1334   January 18th, 2017        Specialty Coffee Association   \n",
       "1335   January 18th, 2017        Specialty Coffee Association   \n",
       "1336  December 23rd, 2015        Specialty Coffee Association   \n",
       "1337    August 25th, 2015        Specialty Coffee Association   \n",
       "1338    August 25th, 2015        Specialty Coffee Association   \n",
       "\n",
       "                         Certification.Address  \\\n",
       "0     309fcf77415a3661ae83e027f7e5f05dad786e44   \n",
       "1     309fcf77415a3661ae83e027f7e5f05dad786e44   \n",
       "2     36d0d00a3724338ba7937c52a378d085f2172daa   \n",
       "3     309fcf77415a3661ae83e027f7e5f05dad786e44   \n",
       "4     309fcf77415a3661ae83e027f7e5f05dad786e44   \n",
       "...                                        ...   \n",
       "1334  ff7c18ad303d4b603ac3f8cff7e611ffc735e720   \n",
       "1335  ff7c18ad303d4b603ac3f8cff7e611ffc735e720   \n",
       "1336  ff7c18ad303d4b603ac3f8cff7e611ffc735e720   \n",
       "1337  ff7c18ad303d4b603ac3f8cff7e611ffc735e720   \n",
       "1338  ff7c18ad303d4b603ac3f8cff7e611ffc735e720   \n",
       "\n",
       "                         Certification.Contact unit_of_measurement  \\\n",
       "0     19fef5a731de2db57d16da10287413f5f99bc2dd                   m   \n",
       "1     19fef5a731de2db57d16da10287413f5f99bc2dd                   m   \n",
       "2     0878a7d4b9d35ddbf0fe2ce69a2062cceb45a660                   m   \n",
       "3     19fef5a731de2db57d16da10287413f5f99bc2dd                   m   \n",
       "4     19fef5a731de2db57d16da10287413f5f99bc2dd                   m   \n",
       "...                                        ...                 ...   \n",
       "1334  352d0cf7f3e9be14dad7df644ad65efc27605ae2                   m   \n",
       "1335  352d0cf7f3e9be14dad7df644ad65efc27605ae2                   m   \n",
       "1336  352d0cf7f3e9be14dad7df644ad65efc27605ae2                   m   \n",
       "1337  352d0cf7f3e9be14dad7df644ad65efc27605ae2                   m   \n",
       "1338  352d0cf7f3e9be14dad7df644ad65efc27605ae2                   m   \n",
       "\n",
       "     altitude_low_meters altitude_high_meters  altitude_mean_meters  \n",
       "0                 1950.0               2200.0                2075.0  \n",
       "1                 1950.0               2200.0                2075.0  \n",
       "2                 1600.0               1800.0                1700.0  \n",
       "3                 1800.0               2200.0                2000.0  \n",
       "4                 1950.0               2200.0                2075.0  \n",
       "...                  ...                  ...                   ...  \n",
       "1334                 NaN                  NaN                   NaN  \n",
       "1335                40.0                 40.0                  40.0  \n",
       "1336               795.0                795.0                 795.0  \n",
       "1337                 NaN                  NaN                   NaN  \n",
       "1338                 NaN                  NaN                   NaN  \n",
       "\n",
       "[1339 rows x 43 columns]"
      ]
     },
     "execution_count": 4,
     "metadata": {},
     "output_type": "execute_result"
    }
   ],
   "source": [
    "coffee_dataset"
   ]
  },
  {
   "cell_type": "markdown",
   "id": "b278e2a8-56b4-4b1a-ad71-e7b920321e37",
   "metadata": {},
   "source": [
    "### Problem 2. Observations and features (1 point)\n",
    "How many observations are there? How many features? Which features are numerical, and which are categorical?\n",
    "\n",
    "**Note:** Think about the _meaning_, not the data types. The dataset hasn't been thoroughly cleaned."
   ]
  },
  {
   "cell_type": "code",
   "execution_count": 5,
   "id": "e7d17c46-5475-4c33-9c35-b7cf56ac41c3",
   "metadata": {},
   "outputs": [
    {
     "data": {
      "text/plain": [
       "(1339, 43)"
      ]
     },
     "execution_count": 5,
     "metadata": {},
     "output_type": "execute_result"
    }
   ],
   "source": [
    "coffee_dataset.shape"
   ]
  },
  {
   "cell_type": "markdown",
   "id": "011a9669-28aa-47d0-8e2c-de0f6672cb21",
   "metadata": {},
   "source": [
    "<span style=\"color: green;\">The dataset includes 1339 observations and 43 features (42 characteristics describing the coffee + index column).</span>"
   ]
  },
  {
   "cell_type": "code",
   "execution_count": 6,
   "id": "c98a0f9f-2672-4fd3-868f-37c4cd78e9f8",
   "metadata": {
    "scrolled": true
   },
   "outputs": [
    {
     "data": {
      "text/plain": [
       "Species                   object\n",
       "Owner                     object\n",
       "Country.of.Origin         object\n",
       "Farm.Name                 object\n",
       "Lot.Number                object\n",
       "Mill                      object\n",
       "ICO.Number                object\n",
       "Company                   object\n",
       "Altitude                  object\n",
       "Region                    object\n",
       "Producer                  object\n",
       "Number.of.Bags             int64\n",
       "Bag.Weight                object\n",
       "In.Country.Partner        object\n",
       "Harvest.Year              object\n",
       "Grading.Date              object\n",
       "Owner.1                   object\n",
       "Variety                   object\n",
       "Processing.Method         object\n",
       "Aroma                    float64\n",
       "Flavor                   float64\n",
       "Aftertaste               float64\n",
       "Acidity                  float64\n",
       "Body                     float64\n",
       "Balance                  float64\n",
       "Uniformity               float64\n",
       "Clean.Cup                float64\n",
       "Sweetness                float64\n",
       "Cupper.Points            float64\n",
       "Total.Cup.Points         float64\n",
       "Moisture                 float64\n",
       "Category.One.Defects       int64\n",
       "Quakers                  float64\n",
       "Color                     object\n",
       "Category.Two.Defects       int64\n",
       "Expiration                object\n",
       "Certification.Body        object\n",
       "Certification.Address     object\n",
       "Certification.Contact     object\n",
       "unit_of_measurement       object\n",
       "altitude_low_meters      float64\n",
       "altitude_high_meters     float64\n",
       "altitude_mean_meters     float64\n",
       "dtype: object"
      ]
     },
     "execution_count": 6,
     "metadata": {},
     "output_type": "execute_result"
    }
   ],
   "source": [
    "coffee_dataset.dtypes # checking types of the features according to pandas"
   ]
  },
  {
   "cell_type": "markdown",
   "id": "071bf4e5-17ea-495b-8af7-7413878c6bc5",
   "metadata": {},
   "source": [
    "#### Exploring some questionable features in relation to type"
   ]
  },
  {
   "cell_type": "code",
   "execution_count": 7,
   "id": "de7c7627-e3e9-477b-9b51-ebc60d75d2cf",
   "metadata": {},
   "outputs": [
    {
     "data": {
      "text/plain": [
       "unit_of_measurement\n",
       "m     1157\n",
       "ft     182\n",
       "Name: count, dtype: int64"
      ]
     },
     "execution_count": 7,
     "metadata": {},
     "output_type": "execute_result"
    }
   ],
   "source": [
    "coffee_dataset[\"unit_of_measurement\"].value_counts()"
   ]
  },
  {
   "cell_type": "code",
   "execution_count": 8,
   "id": "b6e2fa48-f45f-4a0c-836f-56d2bf486aca",
   "metadata": {},
   "outputs": [
    {
     "data": {
      "text/plain": [
       "Quakers\n",
       "0.0     1244\n",
       "1.0       39\n",
       "2.0       30\n",
       "4.0        5\n",
       "5.0        5\n",
       "3.0        5\n",
       "6.0        4\n",
       "7.0        3\n",
       "11.0       1\n",
       "NaN        1\n",
       "9.0        1\n",
       "8.0        1\n",
       "Name: count, dtype: int64"
      ]
     },
     "execution_count": 8,
     "metadata": {},
     "output_type": "execute_result"
    }
   ],
   "source": [
    "coffee_dataset.Quakers.value_counts(dropna = False)"
   ]
  },
  {
   "cell_type": "code",
   "execution_count": 9,
   "id": "2568c760-916d-4bef-9e63-e25101b9f36f",
   "metadata": {
    "scrolled": true
   },
   "outputs": [
    {
     "data": {
      "text/plain": [
       "Moisture\n",
       "0.11    383\n",
       "0.12    294\n",
       "0.00    264\n",
       "0.10    182\n",
       "0.13     76\n",
       "0.09     27\n",
       "0.14     23\n",
       "0.08     16\n",
       "0.01     15\n",
       "0.15      8\n",
       "0.05      8\n",
       "0.02      7\n",
       "0.06      7\n",
       "0.07      5\n",
       "0.16      5\n",
       "0.04      4\n",
       "0.03      4\n",
       "0.20      3\n",
       "0.17      3\n",
       "0.18      2\n",
       "0.28      1\n",
       "0.21      1\n",
       "0.22      1\n",
       "Name: count, dtype: int64"
      ]
     },
     "execution_count": 9,
     "metadata": {},
     "output_type": "execute_result"
    }
   ],
   "source": [
    "coffee_dataset.Moisture.value_counts(dropna = False)"
   ]
  },
  {
   "cell_type": "code",
   "execution_count": 10,
   "id": "6c38e26e-8b40-4c0e-9016-c0ae32799a22",
   "metadata": {},
   "outputs": [
    {
     "data": {
      "text/plain": [
       "Total.Cup.Points\n",
       "83.00    39\n",
       "83.17    38\n",
       "82.42    32\n",
       "82.75    30\n",
       "82.33    29\n",
       "         ..\n",
       "76.75     1\n",
       "76.50     1\n",
       "76.42     1\n",
       "76.25     1\n",
       "73.75     1\n",
       "Name: count, Length: 180, dtype: int64"
      ]
     },
     "execution_count": 10,
     "metadata": {},
     "output_type": "execute_result"
    }
   ],
   "source": [
    "coffee_dataset[\"Total.Cup.Points\"].value_counts(dropna = False)"
   ]
  },
  {
   "cell_type": "code",
   "execution_count": 11,
   "id": "23bce958-0fda-4e00-b0f8-4c1337c162a7",
   "metadata": {
    "scrolled": true
   },
   "outputs": [
    {
     "data": {
      "text/plain": [
       "Cupper.Points\n",
       "7.50     154\n",
       "7.58     138\n",
       "7.33     115\n",
       "7.67     115\n",
       "7.42     104\n",
       "7.83      87\n",
       "7.75      87\n",
       "7.25      85\n",
       "7.17      64\n",
       "7.92      55\n",
       "8.00      54\n",
       "7.00      50\n",
       "7.08      38\n",
       "8.08      24\n",
       "6.83      21\n",
       "6.67      20\n",
       "8.17      20\n",
       "6.92      19\n",
       "6.75      14\n",
       "8.33       9\n",
       "8.50       8\n",
       "8.58       6\n",
       "8.25       6\n",
       "8.42       6\n",
       "6.50       6\n",
       "6.58       6\n",
       "6.42       5\n",
       "10.00      4\n",
       "6.33       3\n",
       "6.17       3\n",
       "8.67       2\n",
       "6.00       1\n",
       "6.25       1\n",
       "8.75       1\n",
       "5.42       1\n",
       "5.25       1\n",
       "5.17       1\n",
       "8.13       1\n",
       "8.83       1\n",
       "9.00       1\n",
       "9.25       1\n",
       "0.00       1\n",
       "Name: count, dtype: int64"
      ]
     },
     "execution_count": 11,
     "metadata": {},
     "output_type": "execute_result"
    }
   ],
   "source": [
    "coffee_dataset[\"Cupper.Points\"].value_counts(dropna = False)"
   ]
  },
  {
   "cell_type": "code",
   "execution_count": 214,
   "id": "0caa52ff-4374-4973-bcca-aa6d6a05e2c9",
   "metadata": {
    "scrolled": true
   },
   "outputs": [
    {
     "name": "stdout",
     "output_type": "stream",
     "text": [
      "                  Feature         Type\n",
      "0                 Species       string\n",
      "1                   Owner       string\n",
      "2       Country.of.Origin       string\n",
      "3               Farm.Name       string\n",
      "4              Lot.Number       string\n",
      "5                    Mill       string\n",
      "6              ICO.Number       string\n",
      "7                 Company       string\n",
      "8                  Region       string\n",
      "9                Producer       string\n",
      "10     In.Country.Partner       string\n",
      "11                Owner.1       string\n",
      "12                Variety       string\n",
      "13      Processing.Method       string\n",
      "14                  Color       string\n",
      "15     Certification.Body       string\n",
      "16  Certification.Address       string\n",
      "17  Certification.Contact       string\n",
      "18    unit_of_measurement       string\n",
      "19               Altitude    numerical\n",
      "20         Number.of.Bags    numerical\n",
      "21             Bag.Weight    numerical\n",
      "22                  Aroma    numerical\n",
      "23                 Flavor    numerical\n",
      "24             Aftertaste    numerical\n",
      "25                Acidity    numerical\n",
      "26                   Body    numerical\n",
      "27                Balance    numerical\n",
      "28             Uniformity    numerical\n",
      "29              Clean.Cup    numerical\n",
      "30              Sweetness    numerical\n",
      "31          Cupper.Points    numerical\n",
      "32       Total.Cup.Points    numerical\n",
      "33               Moisture    numerical\n",
      "34    altitude_low_meters    numerical\n",
      "35   altitude_high_meters    numerical\n",
      "36   altitude_mean_meters    numerical\n",
      "37           Harvest.Year  categorical\n",
      "38   Category.One.Defects  categorical\n",
      "39                Quakers  categorical\n",
      "40   Category.Two.Defects  categorical\n",
      "41           Grading.Date     datetime\n",
      "42             Expiration     datetime\n"
     ]
    }
   ],
   "source": [
    "# Rearranging the features' types\n",
    "\n",
    "features_type_table = {\n",
    "    \"string\": [\"Species\", \"Owner\", \"Country.of.Origin\", \"Farm.Name\",\"Lot.Number\", \"Mill\", \n",
    "               \"ICO.Number\", \"Company\", \"Region\", \"Producer\", \"In.Country.Partner\", \n",
    "               \"Owner.1\", \"Variety\", \"Processing.Method\", \"Color\", \"Certification.Body\", \n",
    "               \"Certification.Address\", \"Certification.Contact\", \"unit_of_measurement\"],\n",
    "    \"numerical\": [\"Altitude\", \"Number.of.Bags\", \"Bag.Weight\", \"Aroma\", \"Flavor\", \"Aftertaste\", \n",
    "                  \"Acidity\", \"Body\", \"Balance\", \"Uniformity\", \"Clean.Cup\", \"Sweetness\", \"Cupper.Points\",\n",
    "                 \"Total.Cup.Points\", \"Moisture\", \"altitude_low_meters\", \"altitude_high_meters\", \"altitude_mean_meters\"],\n",
    "    \"categorical\": [\"Harvest.Year\", \"Category.One.Defects\", \"Quakers\", \"Category.Two.Defects\"],\n",
    "    \"datetime\": [\"Grading.Date\", \"Expiration\"]\n",
    "}\n",
    "\n",
    "\"\"\"I have doubts that the following varaibles (\"Aroma\", \"Flavor\", \"Aftertaste\", \"Acidity\", \"Body\", \"Balance\", \n",
    "\"Uniformity\", \"Clean.Cup\", \"Sweetness\", \"Cupper.Points\", \"Total.Cup.Points\", \"Moisture\") are categorical then numerical, \n",
    "since they take float values and do not take int values from 1 to 10 how it would be if they were rated by people \"\"\"\n",
    "\n",
    "flattened_data = []\n",
    "\n",
    "for type, features in features_type_table.items():\n",
    "    for feature in features:\n",
    "        flattened_data.append((feature, type))\n",
    "\n",
    "\n",
    "features_type_table_dataframe = pd.DataFrame(flattened_data, columns=[\"Feature\", \"Type\"]) # Create DataFrame\n",
    "\n",
    "\n",
    "print(features_type_table_dataframe)"
   ]
  },
  {
   "cell_type": "markdown",
   "id": "5ff0f284-73de-48b8-a222-db565682d0cc",
   "metadata": {},
   "source": [
    "<span style=\"color: green;\">There are 18 strings, 18 numerical, 4 categorical and 2 dates (the index column is not taken into account).</span> "
   ]
  },
  {
   "cell_type": "markdown",
   "id": "2b745e68-35eb-4acb-b39f-513137f0ee4b",
   "metadata": {},
   "source": [
    "### Problem 3. Column manipulation (1 point)\n",
    "Make the column names more Pythonic (which helps with the quality and... aesthetics). Convert column names to `snake_case`, i.e. `species`, `country_of_origin`, `ico_number`, etc. Try to not do it manually."
   ]
  },
  {
   "cell_type": "code",
   "execution_count": 13,
   "id": "301e9f3f-afd6-4a91-a32f-1974584694ca",
   "metadata": {},
   "outputs": [
    {
     "data": {
      "text/plain": [
       "Index(['Species', 'Owner', 'Country.of.Origin', 'Farm.Name', 'Lot.Number',\n",
       "       'Mill', 'ICO.Number', 'Company', 'Altitude', 'Region', 'Producer',\n",
       "       'Number.of.Bags', 'Bag.Weight', 'In.Country.Partner', 'Harvest.Year',\n",
       "       'Grading.Date', 'Owner.1', 'Variety', 'Processing.Method', 'Aroma',\n",
       "       'Flavor', 'Aftertaste', 'Acidity', 'Body', 'Balance', 'Uniformity',\n",
       "       'Clean.Cup', 'Sweetness', 'Cupper.Points', 'Total.Cup.Points',\n",
       "       'Moisture', 'Category.One.Defects', 'Quakers', 'Color',\n",
       "       'Category.Two.Defects', 'Expiration', 'Certification.Body',\n",
       "       'Certification.Address', 'Certification.Contact', 'unit_of_measurement',\n",
       "       'altitude_low_meters', 'altitude_high_meters', 'altitude_mean_meters'],\n",
       "      dtype='object')"
      ]
     },
     "execution_count": 13,
     "metadata": {},
     "output_type": "execute_result"
    }
   ],
   "source": [
    "coffee_dataset.columns"
   ]
  },
  {
   "cell_type": "code",
   "execution_count": 14,
   "id": "723e1dc3-d08a-4cc1-8b44-0ed3c6d18404",
   "metadata": {},
   "outputs": [
    {
     "data": {
      "text/plain": [
       "Index(['species', 'owner', 'country_of_origin', 'farm_name', 'lot_number',\n",
       "       'mill', 'ico_number', 'company', 'altitude', 'region', 'producer',\n",
       "       'number_of_bags', 'bag_weight', 'in_country_partner', 'harvest_year',\n",
       "       'grading_date', 'owner_1', 'variety', 'processing_method', 'aroma',\n",
       "       'flavor', 'aftertaste', 'acidity', 'body', 'balance', 'uniformity',\n",
       "       'clean_cup', 'sweetness', 'cupper_points', 'total_cup_points',\n",
       "       'moisture', 'category_one_defects', 'quakers', 'color',\n",
       "       'category_two_defects', 'expiration', 'certification_body',\n",
       "       'certification_address', 'certification_contact', 'unit_of_measurement',\n",
       "       'altitude_low_meters', 'altitude_high_meters', 'altitude_mean_meters'],\n",
       "      dtype='object')"
      ]
     },
     "execution_count": 14,
     "metadata": {},
     "output_type": "execute_result"
    }
   ],
   "source": [
    "# Rename the columns\n",
    "\n",
    "old_names = ['Species', 'Owner', 'Country.of.Origin', 'Farm.Name',\n",
    "       'Lot.Number', 'Mill', 'ICO.Number', 'Company', 'Altitude', 'Region',\n",
    "       'Producer', 'Number.of.Bags', 'Bag.Weight', 'In.Country.Partner',\n",
    "       'Harvest.Year', 'Grading.Date', 'Owner.1', 'Variety',\n",
    "       'Processing.Method', 'Aroma', 'Flavor', 'Aftertaste', 'Acidity', 'Body',\n",
    "       'Balance', 'Uniformity', 'Clean.Cup', 'Sweetness', 'Cupper.Points',\n",
    "       'Total.Cup.Points', 'Moisture', 'Category.One.Defects', 'Quakers',\n",
    "       'Color', 'Category.Two.Defects', 'Expiration', 'Certification.Body',\n",
    "       'Certification.Address', 'Certification.Contact', 'unit_of_measurement',\n",
    "       'altitude_low_meters', 'altitude_high_meters', 'altitude_mean_meters']\n",
    "\n",
    "\n",
    "new_names = {}\n",
    "for old_name in old_names:\n",
    "    new_name = old_name.lower()\n",
    "    while \".\" in new_name:\n",
    "        new_name = new_name.replace(\".\", \"_\")\n",
    "    new_names[old_name] = new_name\n",
    "\n",
    "\n",
    "coffee_dataset_renamed = coffee_dataset.rename(columns=new_names)\n",
    "coffee_dataset_renamed.columns"
   ]
  },
  {
   "cell_type": "code",
   "execution_count": 15,
   "id": "602f4aff-bedb-459d-bc31-3cc8c3bda070",
   "metadata": {
    "scrolled": true
   },
   "outputs": [
    {
     "data": {
      "text/html": [
       "<div>\n",
       "<style scoped>\n",
       "    .dataframe tbody tr th:only-of-type {\n",
       "        vertical-align: middle;\n",
       "    }\n",
       "\n",
       "    .dataframe tbody tr th {\n",
       "        vertical-align: top;\n",
       "    }\n",
       "\n",
       "    .dataframe thead th {\n",
       "        text-align: right;\n",
       "    }\n",
       "</style>\n",
       "<table border=\"1\" class=\"dataframe\">\n",
       "  <thead>\n",
       "    <tr style=\"text-align: right;\">\n",
       "      <th></th>\n",
       "      <th>species</th>\n",
       "      <th>owner</th>\n",
       "      <th>country_of_origin</th>\n",
       "      <th>farm_name</th>\n",
       "      <th>lot_number</th>\n",
       "      <th>mill</th>\n",
       "      <th>ico_number</th>\n",
       "      <th>company</th>\n",
       "      <th>altitude</th>\n",
       "      <th>region</th>\n",
       "      <th>...</th>\n",
       "      <th>color</th>\n",
       "      <th>category_two_defects</th>\n",
       "      <th>expiration</th>\n",
       "      <th>certification_body</th>\n",
       "      <th>certification_address</th>\n",
       "      <th>certification_contact</th>\n",
       "      <th>unit_of_measurement</th>\n",
       "      <th>altitude_low_meters</th>\n",
       "      <th>altitude_high_meters</th>\n",
       "      <th>altitude_mean_meters</th>\n",
       "    </tr>\n",
       "  </thead>\n",
       "  <tbody>\n",
       "    <tr>\n",
       "      <th>0</th>\n",
       "      <td>Arabica</td>\n",
       "      <td>metad plc</td>\n",
       "      <td>Ethiopia</td>\n",
       "      <td>metad plc</td>\n",
       "      <td>NaN</td>\n",
       "      <td>metad plc</td>\n",
       "      <td>2014/2015</td>\n",
       "      <td>metad agricultural developmet plc</td>\n",
       "      <td>1950-2200</td>\n",
       "      <td>guji-hambela</td>\n",
       "      <td>...</td>\n",
       "      <td>Green</td>\n",
       "      <td>0</td>\n",
       "      <td>April 3rd, 2016</td>\n",
       "      <td>METAD Agricultural Development plc</td>\n",
       "      <td>309fcf77415a3661ae83e027f7e5f05dad786e44</td>\n",
       "      <td>19fef5a731de2db57d16da10287413f5f99bc2dd</td>\n",
       "      <td>m</td>\n",
       "      <td>1950.0</td>\n",
       "      <td>2200.0</td>\n",
       "      <td>2075.0</td>\n",
       "    </tr>\n",
       "    <tr>\n",
       "      <th>1</th>\n",
       "      <td>Arabica</td>\n",
       "      <td>metad plc</td>\n",
       "      <td>Ethiopia</td>\n",
       "      <td>metad plc</td>\n",
       "      <td>NaN</td>\n",
       "      <td>metad plc</td>\n",
       "      <td>2014/2015</td>\n",
       "      <td>metad agricultural developmet plc</td>\n",
       "      <td>1950-2200</td>\n",
       "      <td>guji-hambela</td>\n",
       "      <td>...</td>\n",
       "      <td>Green</td>\n",
       "      <td>1</td>\n",
       "      <td>April 3rd, 2016</td>\n",
       "      <td>METAD Agricultural Development plc</td>\n",
       "      <td>309fcf77415a3661ae83e027f7e5f05dad786e44</td>\n",
       "      <td>19fef5a731de2db57d16da10287413f5f99bc2dd</td>\n",
       "      <td>m</td>\n",
       "      <td>1950.0</td>\n",
       "      <td>2200.0</td>\n",
       "      <td>2075.0</td>\n",
       "    </tr>\n",
       "    <tr>\n",
       "      <th>2</th>\n",
       "      <td>Arabica</td>\n",
       "      <td>grounds for health admin</td>\n",
       "      <td>Guatemala</td>\n",
       "      <td>san marcos barrancas \"san cristobal cuch</td>\n",
       "      <td>NaN</td>\n",
       "      <td>NaN</td>\n",
       "      <td>NaN</td>\n",
       "      <td>NaN</td>\n",
       "      <td>1600 - 1800 m</td>\n",
       "      <td>NaN</td>\n",
       "      <td>...</td>\n",
       "      <td>NaN</td>\n",
       "      <td>0</td>\n",
       "      <td>May 31st, 2011</td>\n",
       "      <td>Specialty Coffee Association</td>\n",
       "      <td>36d0d00a3724338ba7937c52a378d085f2172daa</td>\n",
       "      <td>0878a7d4b9d35ddbf0fe2ce69a2062cceb45a660</td>\n",
       "      <td>m</td>\n",
       "      <td>1600.0</td>\n",
       "      <td>1800.0</td>\n",
       "      <td>1700.0</td>\n",
       "    </tr>\n",
       "    <tr>\n",
       "      <th>3</th>\n",
       "      <td>Arabica</td>\n",
       "      <td>yidnekachew dabessa</td>\n",
       "      <td>Ethiopia</td>\n",
       "      <td>yidnekachew dabessa coffee plantation</td>\n",
       "      <td>NaN</td>\n",
       "      <td>wolensu</td>\n",
       "      <td>NaN</td>\n",
       "      <td>yidnekachew debessa coffee plantation</td>\n",
       "      <td>1800-2200</td>\n",
       "      <td>oromia</td>\n",
       "      <td>...</td>\n",
       "      <td>Green</td>\n",
       "      <td>2</td>\n",
       "      <td>March 25th, 2016</td>\n",
       "      <td>METAD Agricultural Development plc</td>\n",
       "      <td>309fcf77415a3661ae83e027f7e5f05dad786e44</td>\n",
       "      <td>19fef5a731de2db57d16da10287413f5f99bc2dd</td>\n",
       "      <td>m</td>\n",
       "      <td>1800.0</td>\n",
       "      <td>2200.0</td>\n",
       "      <td>2000.0</td>\n",
       "    </tr>\n",
       "    <tr>\n",
       "      <th>4</th>\n",
       "      <td>Arabica</td>\n",
       "      <td>metad plc</td>\n",
       "      <td>Ethiopia</td>\n",
       "      <td>metad plc</td>\n",
       "      <td>NaN</td>\n",
       "      <td>metad plc</td>\n",
       "      <td>2014/2015</td>\n",
       "      <td>metad agricultural developmet plc</td>\n",
       "      <td>1950-2200</td>\n",
       "      <td>guji-hambela</td>\n",
       "      <td>...</td>\n",
       "      <td>Green</td>\n",
       "      <td>2</td>\n",
       "      <td>April 3rd, 2016</td>\n",
       "      <td>METAD Agricultural Development plc</td>\n",
       "      <td>309fcf77415a3661ae83e027f7e5f05dad786e44</td>\n",
       "      <td>19fef5a731de2db57d16da10287413f5f99bc2dd</td>\n",
       "      <td>m</td>\n",
       "      <td>1950.0</td>\n",
       "      <td>2200.0</td>\n",
       "      <td>2075.0</td>\n",
       "    </tr>\n",
       "    <tr>\n",
       "      <th>...</th>\n",
       "      <td>...</td>\n",
       "      <td>...</td>\n",
       "      <td>...</td>\n",
       "      <td>...</td>\n",
       "      <td>...</td>\n",
       "      <td>...</td>\n",
       "      <td>...</td>\n",
       "      <td>...</td>\n",
       "      <td>...</td>\n",
       "      <td>...</td>\n",
       "      <td>...</td>\n",
       "      <td>...</td>\n",
       "      <td>...</td>\n",
       "      <td>...</td>\n",
       "      <td>...</td>\n",
       "      <td>...</td>\n",
       "      <td>...</td>\n",
       "      <td>...</td>\n",
       "      <td>...</td>\n",
       "      <td>...</td>\n",
       "      <td>...</td>\n",
       "    </tr>\n",
       "    <tr>\n",
       "      <th>1334</th>\n",
       "      <td>Robusta</td>\n",
       "      <td>luis robles</td>\n",
       "      <td>Ecuador</td>\n",
       "      <td>robustasa</td>\n",
       "      <td>Lavado 1</td>\n",
       "      <td>our own lab</td>\n",
       "      <td>NaN</td>\n",
       "      <td>robustasa</td>\n",
       "      <td>NaN</td>\n",
       "      <td>san juan, playas</td>\n",
       "      <td>...</td>\n",
       "      <td>Blue-Green</td>\n",
       "      <td>1</td>\n",
       "      <td>January 18th, 2017</td>\n",
       "      <td>Specialty Coffee Association</td>\n",
       "      <td>ff7c18ad303d4b603ac3f8cff7e611ffc735e720</td>\n",
       "      <td>352d0cf7f3e9be14dad7df644ad65efc27605ae2</td>\n",
       "      <td>m</td>\n",
       "      <td>NaN</td>\n",
       "      <td>NaN</td>\n",
       "      <td>NaN</td>\n",
       "    </tr>\n",
       "    <tr>\n",
       "      <th>1335</th>\n",
       "      <td>Robusta</td>\n",
       "      <td>luis robles</td>\n",
       "      <td>Ecuador</td>\n",
       "      <td>robustasa</td>\n",
       "      <td>Lavado 3</td>\n",
       "      <td>own laboratory</td>\n",
       "      <td>NaN</td>\n",
       "      <td>robustasa</td>\n",
       "      <td>40</td>\n",
       "      <td>san juan, playas</td>\n",
       "      <td>...</td>\n",
       "      <td>Blue-Green</td>\n",
       "      <td>0</td>\n",
       "      <td>January 18th, 2017</td>\n",
       "      <td>Specialty Coffee Association</td>\n",
       "      <td>ff7c18ad303d4b603ac3f8cff7e611ffc735e720</td>\n",
       "      <td>352d0cf7f3e9be14dad7df644ad65efc27605ae2</td>\n",
       "      <td>m</td>\n",
       "      <td>40.0</td>\n",
       "      <td>40.0</td>\n",
       "      <td>40.0</td>\n",
       "    </tr>\n",
       "    <tr>\n",
       "      <th>1336</th>\n",
       "      <td>Robusta</td>\n",
       "      <td>james moore</td>\n",
       "      <td>United States</td>\n",
       "      <td>fazenda cazengo</td>\n",
       "      <td>NaN</td>\n",
       "      <td>cafe cazengo</td>\n",
       "      <td>NaN</td>\n",
       "      <td>global opportunity fund</td>\n",
       "      <td>795 meters</td>\n",
       "      <td>kwanza norte province, angola</td>\n",
       "      <td>...</td>\n",
       "      <td>NaN</td>\n",
       "      <td>6</td>\n",
       "      <td>December 23rd, 2015</td>\n",
       "      <td>Specialty Coffee Association</td>\n",
       "      <td>ff7c18ad303d4b603ac3f8cff7e611ffc735e720</td>\n",
       "      <td>352d0cf7f3e9be14dad7df644ad65efc27605ae2</td>\n",
       "      <td>m</td>\n",
       "      <td>795.0</td>\n",
       "      <td>795.0</td>\n",
       "      <td>795.0</td>\n",
       "    </tr>\n",
       "    <tr>\n",
       "      <th>1337</th>\n",
       "      <td>Robusta</td>\n",
       "      <td>cafe politico</td>\n",
       "      <td>India</td>\n",
       "      <td>NaN</td>\n",
       "      <td>NaN</td>\n",
       "      <td>NaN</td>\n",
       "      <td>14-1118-2014-0087</td>\n",
       "      <td>cafe politico</td>\n",
       "      <td>NaN</td>\n",
       "      <td>NaN</td>\n",
       "      <td>...</td>\n",
       "      <td>Green</td>\n",
       "      <td>1</td>\n",
       "      <td>August 25th, 2015</td>\n",
       "      <td>Specialty Coffee Association</td>\n",
       "      <td>ff7c18ad303d4b603ac3f8cff7e611ffc735e720</td>\n",
       "      <td>352d0cf7f3e9be14dad7df644ad65efc27605ae2</td>\n",
       "      <td>m</td>\n",
       "      <td>NaN</td>\n",
       "      <td>NaN</td>\n",
       "      <td>NaN</td>\n",
       "    </tr>\n",
       "    <tr>\n",
       "      <th>1338</th>\n",
       "      <td>Robusta</td>\n",
       "      <td>cafe politico</td>\n",
       "      <td>Vietnam</td>\n",
       "      <td>NaN</td>\n",
       "      <td>NaN</td>\n",
       "      <td>NaN</td>\n",
       "      <td>NaN</td>\n",
       "      <td>cafe politico</td>\n",
       "      <td>NaN</td>\n",
       "      <td>NaN</td>\n",
       "      <td>...</td>\n",
       "      <td>NaN</td>\n",
       "      <td>9</td>\n",
       "      <td>August 25th, 2015</td>\n",
       "      <td>Specialty Coffee Association</td>\n",
       "      <td>ff7c18ad303d4b603ac3f8cff7e611ffc735e720</td>\n",
       "      <td>352d0cf7f3e9be14dad7df644ad65efc27605ae2</td>\n",
       "      <td>m</td>\n",
       "      <td>NaN</td>\n",
       "      <td>NaN</td>\n",
       "      <td>NaN</td>\n",
       "    </tr>\n",
       "  </tbody>\n",
       "</table>\n",
       "<p>1339 rows × 43 columns</p>\n",
       "</div>"
      ],
      "text/plain": [
       "      species                     owner country_of_origin  \\\n",
       "0     Arabica                 metad plc          Ethiopia   \n",
       "1     Arabica                 metad plc          Ethiopia   \n",
       "2     Arabica  grounds for health admin         Guatemala   \n",
       "3     Arabica       yidnekachew dabessa          Ethiopia   \n",
       "4     Arabica                 metad plc          Ethiopia   \n",
       "...       ...                       ...               ...   \n",
       "1334  Robusta               luis robles           Ecuador   \n",
       "1335  Robusta               luis robles           Ecuador   \n",
       "1336  Robusta               james moore     United States   \n",
       "1337  Robusta             cafe politico             India   \n",
       "1338  Robusta             cafe politico           Vietnam   \n",
       "\n",
       "                                     farm_name lot_number            mill  \\\n",
       "0                                    metad plc        NaN       metad plc   \n",
       "1                                    metad plc        NaN       metad plc   \n",
       "2     san marcos barrancas \"san cristobal cuch        NaN             NaN   \n",
       "3        yidnekachew dabessa coffee plantation        NaN         wolensu   \n",
       "4                                    metad plc        NaN       metad plc   \n",
       "...                                        ...        ...             ...   \n",
       "1334                                 robustasa   Lavado 1     our own lab   \n",
       "1335                                 robustasa   Lavado 3  own laboratory   \n",
       "1336                           fazenda cazengo        NaN    cafe cazengo   \n",
       "1337                                       NaN        NaN             NaN   \n",
       "1338                                       NaN        NaN             NaN   \n",
       "\n",
       "             ico_number                                company       altitude  \\\n",
       "0             2014/2015      metad agricultural developmet plc      1950-2200   \n",
       "1             2014/2015      metad agricultural developmet plc      1950-2200   \n",
       "2                   NaN                                    NaN  1600 - 1800 m   \n",
       "3                   NaN  yidnekachew debessa coffee plantation      1800-2200   \n",
       "4             2014/2015      metad agricultural developmet plc      1950-2200   \n",
       "...                 ...                                    ...            ...   \n",
       "1334                NaN                              robustasa            NaN   \n",
       "1335                NaN                              robustasa             40   \n",
       "1336                NaN                global opportunity fund     795 meters   \n",
       "1337  14-1118-2014-0087                          cafe politico            NaN   \n",
       "1338                NaN                          cafe politico            NaN   \n",
       "\n",
       "                             region  ...       color  category_two_defects  \\\n",
       "0                      guji-hambela  ...       Green                     0   \n",
       "1                      guji-hambela  ...       Green                     1   \n",
       "2                               NaN  ...         NaN                     0   \n",
       "3                            oromia  ...       Green                     2   \n",
       "4                      guji-hambela  ...       Green                     2   \n",
       "...                             ...  ...         ...                   ...   \n",
       "1334               san juan, playas  ...  Blue-Green                     1   \n",
       "1335               san juan, playas  ...  Blue-Green                     0   \n",
       "1336  kwanza norte province, angola  ...         NaN                     6   \n",
       "1337                            NaN  ...       Green                     1   \n",
       "1338                            NaN  ...         NaN                     9   \n",
       "\n",
       "               expiration                  certification_body  \\\n",
       "0         April 3rd, 2016  METAD Agricultural Development plc   \n",
       "1         April 3rd, 2016  METAD Agricultural Development plc   \n",
       "2          May 31st, 2011        Specialty Coffee Association   \n",
       "3        March 25th, 2016  METAD Agricultural Development plc   \n",
       "4         April 3rd, 2016  METAD Agricultural Development plc   \n",
       "...                   ...                                 ...   \n",
       "1334   January 18th, 2017        Specialty Coffee Association   \n",
       "1335   January 18th, 2017        Specialty Coffee Association   \n",
       "1336  December 23rd, 2015        Specialty Coffee Association   \n",
       "1337    August 25th, 2015        Specialty Coffee Association   \n",
       "1338    August 25th, 2015        Specialty Coffee Association   \n",
       "\n",
       "                         certification_address  \\\n",
       "0     309fcf77415a3661ae83e027f7e5f05dad786e44   \n",
       "1     309fcf77415a3661ae83e027f7e5f05dad786e44   \n",
       "2     36d0d00a3724338ba7937c52a378d085f2172daa   \n",
       "3     309fcf77415a3661ae83e027f7e5f05dad786e44   \n",
       "4     309fcf77415a3661ae83e027f7e5f05dad786e44   \n",
       "...                                        ...   \n",
       "1334  ff7c18ad303d4b603ac3f8cff7e611ffc735e720   \n",
       "1335  ff7c18ad303d4b603ac3f8cff7e611ffc735e720   \n",
       "1336  ff7c18ad303d4b603ac3f8cff7e611ffc735e720   \n",
       "1337  ff7c18ad303d4b603ac3f8cff7e611ffc735e720   \n",
       "1338  ff7c18ad303d4b603ac3f8cff7e611ffc735e720   \n",
       "\n",
       "                         certification_contact unit_of_measurement  \\\n",
       "0     19fef5a731de2db57d16da10287413f5f99bc2dd                   m   \n",
       "1     19fef5a731de2db57d16da10287413f5f99bc2dd                   m   \n",
       "2     0878a7d4b9d35ddbf0fe2ce69a2062cceb45a660                   m   \n",
       "3     19fef5a731de2db57d16da10287413f5f99bc2dd                   m   \n",
       "4     19fef5a731de2db57d16da10287413f5f99bc2dd                   m   \n",
       "...                                        ...                 ...   \n",
       "1334  352d0cf7f3e9be14dad7df644ad65efc27605ae2                   m   \n",
       "1335  352d0cf7f3e9be14dad7df644ad65efc27605ae2                   m   \n",
       "1336  352d0cf7f3e9be14dad7df644ad65efc27605ae2                   m   \n",
       "1337  352d0cf7f3e9be14dad7df644ad65efc27605ae2                   m   \n",
       "1338  352d0cf7f3e9be14dad7df644ad65efc27605ae2                   m   \n",
       "\n",
       "     altitude_low_meters altitude_high_meters  altitude_mean_meters  \n",
       "0                 1950.0               2200.0                2075.0  \n",
       "1                 1950.0               2200.0                2075.0  \n",
       "2                 1600.0               1800.0                1700.0  \n",
       "3                 1800.0               2200.0                2000.0  \n",
       "4                 1950.0               2200.0                2075.0  \n",
       "...                  ...                  ...                   ...  \n",
       "1334                 NaN                  NaN                   NaN  \n",
       "1335                40.0                 40.0                  40.0  \n",
       "1336               795.0                795.0                 795.0  \n",
       "1337                 NaN                  NaN                   NaN  \n",
       "1338                 NaN                  NaN                   NaN  \n",
       "\n",
       "[1339 rows x 43 columns]"
      ]
     },
     "execution_count": 15,
     "metadata": {},
     "output_type": "execute_result"
    }
   ],
   "source": [
    "coffee_dataset_renamed"
   ]
  },
  {
   "cell_type": "markdown",
   "id": "8c53c4c6-6eb9-4c92-bd39-89286fe4c86e",
   "metadata": {},
   "source": [
    "### Problem 4. Bag weight (1 point)\n",
    "What's up with the bag weights? Make all necessary changes to the column values. Don't forget to document your methods and assumptions."
   ]
  },
  {
   "cell_type": "code",
   "execution_count": 16,
   "id": "8e97f3d0-1223-49a7-99a9-51a65e4ff4e0",
   "metadata": {},
   "outputs": [
    {
     "data": {
      "text/plain": [
       "0       60 kg\n",
       "1       60 kg\n",
       "2           1\n",
       "3       60 kg\n",
       "4       60 kg\n",
       "        ...  \n",
       "1334     2 kg\n",
       "1335     2 kg\n",
       "1336     1 kg\n",
       "1337    5 lbs\n",
       "1338    5 lbs\n",
       "Name: bag_weight, Length: 1339, dtype: object"
      ]
     },
     "execution_count": 16,
     "metadata": {},
     "output_type": "execute_result"
    }
   ],
   "source": [
    "coffee_dataset_renamed.bag_weight"
   ]
  },
  {
   "cell_type": "code",
   "execution_count": 17,
   "id": "d156b016-da5a-4ca1-b43c-d26f0c983c9e",
   "metadata": {},
   "outputs": [],
   "source": [
    "# convert lbs to kg\n",
    "def convert_lbs_to_kg(value):\n",
    "    if isinstance(value, str) and 'lbs' in value:\n",
    "        value = value.replace('lbs', '').strip()\n",
    "        try:\n",
    "            value = float(value)\n",
    "            value = value / 0.45359237  # Convert lbs to kilograms\n",
    "            value = f\"{value:.2f}\"\n",
    "            return value\n",
    "        except ValueError:\n",
    "            return value  # If conversion fails, return the original value\n",
    "    return value "
   ]
  },
  {
   "cell_type": "code",
   "execution_count": 18,
   "id": "fef6ff2a-6e89-408c-b9b2-eabba9374c14",
   "metadata": {},
   "outputs": [
    {
     "data": {
      "text/plain": [
       "0       60 kg\n",
       "1       60 kg\n",
       "2           1\n",
       "3       60 kg\n",
       "4       60 kg\n",
       "        ...  \n",
       "1334     2 kg\n",
       "1335     2 kg\n",
       "1336     1 kg\n",
       "1337    11.02\n",
       "1338    11.02\n",
       "Name: bag_weight, Length: 1339, dtype: object"
      ]
     },
     "execution_count": 18,
     "metadata": {},
     "output_type": "execute_result"
    }
   ],
   "source": [
    "coffee_dataset_renamed.bag_weight.apply(convert_lbs_to_kg)"
   ]
  },
  {
   "cell_type": "code",
   "execution_count": 19,
   "id": "33b6ecc0-f3ed-4760-90cf-ec5d0a09ca4f",
   "metadata": {},
   "outputs": [],
   "source": [
    "coffee_dataset_renamed.bag_weight = coffee_dataset_renamed.bag_weight.apply(convert_lbs_to_kg)"
   ]
  },
  {
   "cell_type": "code",
   "execution_count": 20,
   "id": "05369bac-4b5c-4edd-b7f9-8a68e46f6b5a",
   "metadata": {},
   "outputs": [],
   "source": [
    "# remove \"kg\" from values\n",
    "def remove_kg_from_cells(value):\n",
    "    if isinstance(value, str) and \"kg\" in value:\n",
    "        if \",\" in value:\n",
    "            value = value.replace(',', '').strip()\n",
    "        value = value[:-3]\n",
    "    return value"
   ]
  },
  {
   "cell_type": "code",
   "execution_count": 21,
   "id": "dc9f9e35-faeb-4f31-8562-f3bf322f5539",
   "metadata": {},
   "outputs": [
    {
     "data": {
      "text/plain": [
       "0          60\n",
       "1          60\n",
       "2           1\n",
       "3          60\n",
       "4          60\n",
       "        ...  \n",
       "1334        2\n",
       "1335        2\n",
       "1336        1\n",
       "1337    11.02\n",
       "1338    11.02\n",
       "Name: bag_weight, Length: 1339, dtype: object"
      ]
     },
     "execution_count": 21,
     "metadata": {},
     "output_type": "execute_result"
    }
   ],
   "source": [
    "coffee_dataset_renamed.bag_weight.apply(remove_kg_from_cells)"
   ]
  },
  {
   "cell_type": "code",
   "execution_count": 22,
   "id": "4320951e-46aa-4645-8eeb-93bf8de22aa8",
   "metadata": {},
   "outputs": [],
   "source": [
    "coffee_dataset_renamed.bag_weight = coffee_dataset_renamed.bag_weight.apply(remove_kg_from_cells)"
   ]
  },
  {
   "cell_type": "code",
   "execution_count": 23,
   "id": "4cccc4e2-47c6-40fa-9e9b-6ceb53347a38",
   "metadata": {
    "scrolled": true
   },
   "outputs": [
    {
     "data": {
      "text/plain": [
       "bag_weight\n",
       "1         339\n",
       "60        256\n",
       "69        200\n",
       "70        156\n",
       "2         124\n",
       "220.46     59\n",
       "30         29\n",
       "11.02      23\n",
       "6          21\n",
       "50         14\n",
       "20         14\n",
       "10         11\n",
       "59         10\n",
       "2.20        8\n",
       "6.61        7\n",
       "5           7\n",
       "4.41        5\n",
       "8.82        4\n",
       "18975       4\n",
       "80          4\n",
       "46          3\n",
       "0.00        3\n",
       "29          2\n",
       "19200       2\n",
       "12000       2\n",
       "35          2\n",
       "66          2\n",
       "40          2\n",
       "25          2\n",
       "15          2\n",
       "9000        2\n",
       "8           1\n",
       "3           1\n",
       "350         1\n",
       "121.25      1\n",
       "67          1\n",
       "4           1\n",
       "24          1\n",
       "100         1\n",
       "176.37      1\n",
       "660         1\n",
       "1500        1\n",
       "13800       1\n",
       "0           1\n",
       "1218        1\n",
       "34          1\n",
       "18          1\n",
       "330.69      1\n",
       "18000       1\n",
       "291.01      1\n",
       "286.60      1\n",
       "Name: count, dtype: int64"
      ]
     },
     "execution_count": 23,
     "metadata": {},
     "output_type": "execute_result"
    }
   ],
   "source": [
    "coffee_dataset_renamed.bag_weight.value_counts() # check data. All values are cleaned!"
   ]
  },
  {
   "cell_type": "code",
   "execution_count": 24,
   "id": "d5eb68f8-495d-4a0d-bbbb-dbeebfe8211b",
   "metadata": {},
   "outputs": [],
   "source": [
    "# convert data type to float, since they were mixed int and float values\n",
    "coffee_dataset_renamed.bag_weight = coffee_dataset_renamed.bag_weight.astype(float) "
   ]
  },
  {
   "cell_type": "code",
   "execution_count": 25,
   "id": "8bb478f6-dbab-4a17-89d8-5bcee13f0dde",
   "metadata": {
    "scrolled": true
   },
   "outputs": [
    {
     "data": {
      "text/plain": [
       "bag_weight\n",
       "1.00        339\n",
       "60.00       256\n",
       "69.00       200\n",
       "70.00       156\n",
       "2.00        124\n",
       "220.46       59\n",
       "30.00        29\n",
       "11.02        23\n",
       "6.00         21\n",
       "50.00        14\n",
       "20.00        14\n",
       "10.00        11\n",
       "59.00        10\n",
       "2.20          8\n",
       "6.61          7\n",
       "5.00          7\n",
       "4.41          5\n",
       "8.82          4\n",
       "18975.00      4\n",
       "80.00         4\n",
       "0.00          4\n",
       "46.00         3\n",
       "29.00         2\n",
       "19200.00      2\n",
       "12000.00      2\n",
       "35.00         2\n",
       "66.00         2\n",
       "40.00         2\n",
       "25.00         2\n",
       "15.00         2\n",
       "9000.00       2\n",
       "8.00          1\n",
       "3.00          1\n",
       "350.00        1\n",
       "121.25        1\n",
       "67.00         1\n",
       "4.00          1\n",
       "24.00         1\n",
       "100.00        1\n",
       "176.37        1\n",
       "660.00        1\n",
       "1500.00       1\n",
       "13800.00      1\n",
       "1218.00       1\n",
       "34.00         1\n",
       "18.00         1\n",
       "330.69        1\n",
       "18000.00      1\n",
       "291.01        1\n",
       "286.60        1\n",
       "Name: count, dtype: int64"
      ]
     },
     "execution_count": 25,
     "metadata": {},
     "output_type": "execute_result"
    }
   ],
   "source": [
    "coffee_dataset_renamed.bag_weight.value_counts()"
   ]
  },
  {
   "cell_type": "markdown",
   "id": "2ff1f817-8e5e-4185-a320-dde7ed2cada1",
   "metadata": {},
   "source": [
    "### Problem 5. Dates (1 point)\n",
    "This should remind you of problem 4 but it's slightly nastier. Fix the harvest years, document the process.\n",
    "\n",
    "While you're here, fix the expiration dates, and grading dates. Unlike the other column, these should be dates (`pd.to_datetime()` is your friend)."
   ]
  },
  {
   "cell_type": "markdown",
   "id": "e0674370-2c78-4d4d-a1ed-43305c7dd291",
   "metadata": {},
   "source": [
    "<span style=\"color: green;\">1. Converting expiration dates and grading dates to datetime</span>\n",
    "<span style=\"color: green;\">2. Cleaning harvest years</span>"
   ]
  },
  {
   "cell_type": "markdown",
   "id": "70b4a125-126a-43e7-80a1-935c00502802",
   "metadata": {},
   "source": [
    "### expiration"
   ]
  },
  {
   "cell_type": "code",
   "execution_count": 26,
   "id": "27c7f787-2029-48e4-b8f4-04b7853158b9",
   "metadata": {},
   "outputs": [
    {
     "data": {
      "text/plain": [
       "expiration\n",
       "July 11th, 2013        25\n",
       "December 26th, 2014    25\n",
       "June 6th, 2013         19\n",
       "August 30th, 2013      18\n",
       "July 26th, 2013        15\n",
       "                       ..\n",
       "March 8th, 2012         1\n",
       "May 11th, 2012          1\n",
       "December 1st, 2012      1\n",
       "April 27th, 2013        1\n",
       "December 23rd, 2015     1\n",
       "Name: count, Length: 566, dtype: int64"
      ]
     },
     "execution_count": 26,
     "metadata": {},
     "output_type": "execute_result"
    }
   ],
   "source": [
    "coffee_dataset_renamed.expiration.value_counts()"
   ]
  },
  {
   "cell_type": "code",
   "execution_count": 27,
   "id": "58c0bd7d-1852-43dc-affe-36824285cae0",
   "metadata": {},
   "outputs": [],
   "source": [
    "# removing suffixes from dates\n",
    "def clean_date_from_suffix(date_value):\n",
    "    for suffix in ['st', 'nd', 'rd', 'th']:\n",
    "        if suffix in date_value:\n",
    "            # Split the string to avoid removing 'st' from 'August'\n",
    "            parts = date_value.split()\n",
    "            parts[1] = parts[1].replace(suffix, '')\n",
    "            date_value = ' '.join(parts)\n",
    "    return date_value"
   ]
  },
  {
   "cell_type": "code",
   "execution_count": 28,
   "id": "8a826be6-795d-481b-b30a-8e5386a28f7a",
   "metadata": {},
   "outputs": [
    {
     "data": {
      "text/plain": [
       "0           April 3, 2016\n",
       "1           April 3, 2016\n",
       "2            May 31, 2011\n",
       "3          March 25, 2016\n",
       "4           April 3, 2016\n",
       "              ...        \n",
       "1334     January 18, 2017\n",
       "1335     January 18, 2017\n",
       "1336    December 23, 2015\n",
       "1337      August 25, 2015\n",
       "1338      August 25, 2015\n",
       "Name: expiration, Length: 1339, dtype: object"
      ]
     },
     "execution_count": 28,
     "metadata": {},
     "output_type": "execute_result"
    }
   ],
   "source": [
    "coffee_dataset_renamed.expiration.apply(clean_date_from_suffix) # checking values after applying the function \"clean_date_from_suffix\" to the values"
   ]
  },
  {
   "cell_type": "code",
   "execution_count": 29,
   "id": "fb7cd721-28b1-4c12-8a5d-2dab0f4bf2d0",
   "metadata": {},
   "outputs": [],
   "source": [
    "coffee_dataset_renamed.expiration = coffee_dataset_renamed.expiration.apply(clean_date_from_suffix) # saving values after applying the function"
   ]
  },
  {
   "cell_type": "code",
   "execution_count": 30,
   "id": "6e797b4e-45a1-497e-823e-0758b2a8dffc",
   "metadata": {},
   "outputs": [],
   "source": [
    "coffee_dataset_renamed.expiration = pd.to_datetime(coffee_dataset_renamed.expiration) # converting to datetime"
   ]
  },
  {
   "cell_type": "code",
   "execution_count": 31,
   "id": "9f500f6b-ae2b-4771-993e-cdbd44e18551",
   "metadata": {},
   "outputs": [
    {
     "data": {
      "text/plain": [
       "expiration\n",
       "2014-12-26    25\n",
       "2013-07-11    25\n",
       "2013-06-06    19\n",
       "2013-08-30    18\n",
       "2013-07-26    15\n",
       "              ..\n",
       "2014-01-21     1\n",
       "2018-08-08     1\n",
       "2017-04-04     1\n",
       "2018-09-19     1\n",
       "2015-12-23     1\n",
       "Name: count, Length: 565, dtype: int64"
      ]
     },
     "execution_count": 31,
     "metadata": {},
     "output_type": "execute_result"
    }
   ],
   "source": [
    "coffee_dataset_renamed.expiration.value_counts() # checking values"
   ]
  },
  {
   "cell_type": "code",
   "execution_count": 32,
   "id": "0a51a487-a62a-4340-9fa1-0cbf4d88bb4f",
   "metadata": {
    "scrolled": true
   },
   "outputs": [
    {
     "data": {
      "text/plain": [
       "dtype('<M8[ns]')"
      ]
     },
     "execution_count": 32,
     "metadata": {},
     "output_type": "execute_result"
    }
   ],
   "source": [
    "coffee_dataset_renamed.expiration.dtypes # checking type of expiration data"
   ]
  },
  {
   "cell_type": "markdown",
   "id": "73eeba8a-aec1-450f-8e86-0dab0f33872c",
   "metadata": {},
   "source": [
    "### grading_date"
   ]
  },
  {
   "cell_type": "code",
   "execution_count": 33,
   "id": "b1060b52-49b9-4e02-93c3-8351b84acea9",
   "metadata": {},
   "outputs": [
    {
     "data": {
      "text/plain": [
       "grading_date\n",
       "July 11th, 2012        25\n",
       "December 26th, 2013    24\n",
       "June 6th, 2012         19\n",
       "August 30th, 2012      18\n",
       "July 26th, 2012        15\n",
       "                       ..\n",
       "March 9th, 2011         1\n",
       "May 12th, 2011          1\n",
       "December 2nd, 2011      1\n",
       "April 27th, 2012        1\n",
       "December 23rd, 2014     1\n",
       "Name: count, Length: 567, dtype: int64"
      ]
     },
     "execution_count": 33,
     "metadata": {},
     "output_type": "execute_result"
    }
   ],
   "source": [
    "coffee_dataset_renamed.grading_date.value_counts()"
   ]
  },
  {
   "cell_type": "code",
   "execution_count": 34,
   "id": "0d9d75b1-09e0-463a-bcfc-64a97cfca2fa",
   "metadata": {},
   "outputs": [
    {
     "data": {
      "text/plain": [
       "0           April 4, 2015\n",
       "1           April 4, 2015\n",
       "2            May 31, 2010\n",
       "3          March 26, 2015\n",
       "4           April 4, 2015\n",
       "              ...        \n",
       "1334     January 19, 2016\n",
       "1335     January 19, 2016\n",
       "1336    December 23, 2014\n",
       "1337      August 25, 2014\n",
       "1338      August 25, 2014\n",
       "Name: grading_date, Length: 1339, dtype: object"
      ]
     },
     "execution_count": 34,
     "metadata": {},
     "output_type": "execute_result"
    }
   ],
   "source": [
    "coffee_dataset_renamed.grading_date.apply(clean_date_from_suffix) # checking values after applying the function \"clean_date_from_suffix\" to the values"
   ]
  },
  {
   "cell_type": "code",
   "execution_count": 35,
   "id": "8c611537-17c5-463c-9973-3a00320b5fae",
   "metadata": {},
   "outputs": [],
   "source": [
    "coffee_dataset_renamed.grading_date = coffee_dataset_renamed.grading_date.apply(clean_date_from_suffix) "
   ]
  },
  {
   "cell_type": "code",
   "execution_count": 36,
   "id": "c49ba214-b6ed-473d-9d30-1e380f920df0",
   "metadata": {},
   "outputs": [],
   "source": [
    "coffee_dataset_renamed.grading_date = pd.to_datetime(coffee_dataset_renamed.grading_date) # converting to datetime"
   ]
  },
  {
   "cell_type": "code",
   "execution_count": 37,
   "id": "2ec09ddc-7c72-4fd5-bfb9-6cf705931c45",
   "metadata": {},
   "outputs": [
    {
     "data": {
      "text/plain": [
       "grading_date\n",
       "2013-12-26    25\n",
       "2012-07-11    25\n",
       "2012-06-06    19\n",
       "2012-08-30    18\n",
       "2012-07-26    15\n",
       "              ..\n",
       "2013-01-21     1\n",
       "2017-08-08     1\n",
       "2016-04-04     1\n",
       "2017-09-19     1\n",
       "2014-12-23     1\n",
       "Name: count, Length: 565, dtype: int64"
      ]
     },
     "execution_count": 37,
     "metadata": {},
     "output_type": "execute_result"
    }
   ],
   "source": [
    "coffee_dataset_renamed.grading_date.value_counts()"
   ]
  },
  {
   "cell_type": "code",
   "execution_count": 38,
   "id": "88ef2eef-f9c5-4e18-825f-673ba05f2791",
   "metadata": {},
   "outputs": [
    {
     "data": {
      "text/plain": [
       "dtype('<M8[ns]')"
      ]
     },
     "execution_count": 38,
     "metadata": {},
     "output_type": "execute_result"
    }
   ],
   "source": [
    "coffee_dataset_renamed.grading_date.dtype # checking type of grading_date"
   ]
  },
  {
   "cell_type": "markdown",
   "id": "f14d6bd0-2445-46d8-a5b0-0b11be412e60",
   "metadata": {},
   "source": [
    "### harvest_year"
   ]
  },
  {
   "cell_type": "code",
   "execution_count": 39,
   "id": "afe46c26-df8f-465e-94e3-818cadb1801b",
   "metadata": {},
   "outputs": [
    {
     "data": {
      "text/plain": [
       "array(['2014', nan, '2013', '2012', 'March 2010',\n",
       "       'Sept 2009 - April 2010', 'May-August', '2009/2010', '2015',\n",
       "       '2011', '2016', '2015/2016', '2010', 'Fall 2009', '2017',\n",
       "       '2009 / 2010', '2010-2011', '2009-2010', '2009 - 2010',\n",
       "       '2013/2014', '2017 / 2018', 'mmm', 'TEST',\n",
       "       'December 2009-March 2010', '2014/2015', '2011/2012',\n",
       "       'January 2011', '4T/10', '2016 / 2017', '23 July 2010',\n",
       "       'January Through April', '1T/2011', '4t/2010', '4T/2010',\n",
       "       'August to December', 'Mayo a Julio', '47/2010', 'Abril - Julio',\n",
       "       '4t/2011', 'Abril - Julio /2011', 'Spring 2011 in Colombia.',\n",
       "       '3T/2011', '2016/2017', '1t/2011', '2018', '4T72010', '08/09 crop'],\n",
       "      dtype=object)"
      ]
     },
     "execution_count": 39,
     "metadata": {},
     "output_type": "execute_result"
    }
   ],
   "source": [
    "coffee_dataset_renamed.harvest_year.unique()"
   ]
  },
  {
   "cell_type": "markdown",
   "id": "13cacdd9-38d2-41ae-843b-9b2db0c26cb1",
   "metadata": {},
   "source": [
    "<span style=\"color: green;\">Since some values do not contain any information about the year, the corresponding rows will be lost</span>"
   ]
  },
  {
   "cell_type": "code",
   "execution_count": 40,
   "id": "32e146ec-f6cc-402f-8a4a-6ba0bb7a2c71",
   "metadata": {},
   "outputs": [
    {
     "data": {
      "text/plain": [
       "0       2014\n",
       "1       2014\n",
       "2        NaN\n",
       "3       2014\n",
       "4       2014\n",
       "        ... \n",
       "1334    2016\n",
       "1335    2016\n",
       "1336    2014\n",
       "1337    2013\n",
       "1338    2013\n",
       "Name: harvest_year, Length: 1339, dtype: object"
      ]
     },
     "execution_count": 40,
     "metadata": {},
     "output_type": "execute_result"
    }
   ],
   "source": [
    "coffee_dataset_renamed.harvest_year.astype(float, errors = \"ignore\")"
   ]
  },
  {
   "cell_type": "code",
   "execution_count": 41,
   "id": "e6698c12-471b-4bde-9a48-12b2c10ddc38",
   "metadata": {},
   "outputs": [
    {
     "data": {
      "text/plain": [
       "0        True\n",
       "1        True\n",
       "2       False\n",
       "3        True\n",
       "4        True\n",
       "        ...  \n",
       "1334     True\n",
       "1335     True\n",
       "1336     True\n",
       "1337     True\n",
       "1338     True\n",
       "Name: harvest_year, Length: 1339, dtype: bool"
      ]
     },
     "execution_count": 41,
     "metadata": {},
     "output_type": "execute_result"
    }
   ],
   "source": [
    "is_year = coffee_dataset_renamed.harvest_year.str.isnumeric() == True\n",
    "is_year.fillna(False)"
   ]
  },
  {
   "cell_type": "code",
   "execution_count": 43,
   "id": "27717b5d-9981-4776-a8b8-194f63ad01dd",
   "metadata": {},
   "outputs": [],
   "source": [
    "coffee_dataset_renamed.loc[is_year, 'harvest_year'] = coffee_dataset_renamed.loc[is_year, 'harvest_year'].astype(int)\n",
    "coffee_dataset_cleaned = coffee_dataset_renamed[is_year] # keeping only the data with valid harvest years"
   ]
  },
  {
   "cell_type": "code",
   "execution_count": 46,
   "id": "d663154b-7645-4740-8fe6-6ad52a712ea1",
   "metadata": {},
   "outputs": [
    {
     "data": {
      "text/plain": [
       "(1128, 43)"
      ]
     },
     "execution_count": 46,
     "metadata": {},
     "output_type": "execute_result"
    }
   ],
   "source": [
    "coffee_dataset_cleaned.shape"
   ]
  },
  {
   "cell_type": "code",
   "execution_count": 45,
   "id": "e7d6638d-d3b9-46a5-8676-e1f1200ac198",
   "metadata": {},
   "outputs": [
    {
     "data": {
      "text/plain": [
       "harvest_year\n",
       "2012    354\n",
       "2014    233\n",
       "2013    181\n",
       "2015    129\n",
       "2016    124\n",
       "2017     70\n",
       "2011     26\n",
       "2010     10\n",
       "2018      1\n",
       "Name: count, dtype: int64"
      ]
     },
     "execution_count": 45,
     "metadata": {},
     "output_type": "execute_result"
    }
   ],
   "source": [
    "coffee_dataset_cleaned.harvest_year.value_counts()"
   ]
  },
  {
   "cell_type": "markdown",
   "id": "0dff33b4-c94d-43b3-bab3-97eabb862a37",
   "metadata": {},
   "source": [
    "### Problem 6. Countries (1 point)\n",
    "How many coffees are there with unknown countries of origin? What can you do about them?"
   ]
  },
  {
   "cell_type": "code",
   "execution_count": 48,
   "id": "0851c1a8-0420-4dba-ac27-487bae4318be",
   "metadata": {
    "scrolled": true
   },
   "outputs": [
    {
     "data": {
      "text/plain": [
       "country_of_origin\n",
       "Mexico                          236\n",
       "Colombia                        183\n",
       "Guatemala                       181\n",
       "Brazil                          132\n",
       "Taiwan                           75\n",
       "United States (Hawaii)           73\n",
       "Honduras                         53\n",
       "Costa Rica                       51\n",
       "Ethiopia                         44\n",
       "Tanzania, United Republic Of     40\n",
       "Uganda                           36\n",
       "Thailand                         32\n",
       "Nicaragua                        26\n",
       "Kenya                            25\n",
       "El Salvador                      21\n",
       "Indonesia                        20\n",
       "China                            16\n",
       "India                            14\n",
       "Malawi                           11\n",
       "United States                    10\n",
       "Peru                             10\n",
       "Myanmar                           8\n",
       "Vietnam                           8\n",
       "Haiti                             6\n",
       "Philippines                       5\n",
       "United States (Puerto Rico)       4\n",
       "Panama                            4\n",
       "Ecuador                           3\n",
       "Laos                              3\n",
       "Burundi                           2\n",
       "Papua New Guinea                  1\n",
       "Rwanda                            1\n",
       "Zambia                            1\n",
       "Japan                             1\n",
       "Mauritius                         1\n",
       "Cote d?Ivoire                     1\n",
       "NaN                               1\n",
       "Name: count, dtype: int64"
      ]
     },
     "execution_count": 48,
     "metadata": {},
     "output_type": "execute_result"
    }
   ],
   "source": [
    "coffee_dataset_renamed.country_of_origin.value_counts(dropna = False)"
   ]
  },
  {
   "cell_type": "markdown",
   "id": "aea3a0dd-e689-4fab-901d-155125094301",
   "metadata": {},
   "source": [
    "<span style=\"color: green;\">There is only one unknown country</span>"
   ]
  },
  {
   "cell_type": "code",
   "execution_count": 62,
   "id": "043c914b-a891-4fa6-8270-71110d1c83c2",
   "metadata": {},
   "outputs": [],
   "source": [
    "# excluding the coffee with unknown country of origin from the dataset.\n",
    "coffee_dataset_renamed_with_known_countries = coffee_dataset_renamed[pd.notna(coffee_dataset_renamed.country_of_origin)]"
   ]
  },
  {
   "cell_type": "code",
   "execution_count": 63,
   "id": "5924cc39-8a73-4dae-8573-0cc78430c2c7",
   "metadata": {
    "scrolled": true
   },
   "outputs": [
    {
     "data": {
      "text/plain": [
       "country_of_origin\n",
       "Mexico                          236\n",
       "Colombia                        183\n",
       "Guatemala                       181\n",
       "Brazil                          132\n",
       "Taiwan                           75\n",
       "United States (Hawaii)           73\n",
       "Honduras                         53\n",
       "Costa Rica                       51\n",
       "Ethiopia                         44\n",
       "Tanzania, United Republic Of     40\n",
       "Uganda                           36\n",
       "Thailand                         32\n",
       "Nicaragua                        26\n",
       "Kenya                            25\n",
       "El Salvador                      21\n",
       "Indonesia                        20\n",
       "China                            16\n",
       "India                            14\n",
       "Malawi                           11\n",
       "United States                    10\n",
       "Peru                             10\n",
       "Myanmar                           8\n",
       "Vietnam                           8\n",
       "Haiti                             6\n",
       "Philippines                       5\n",
       "United States (Puerto Rico)       4\n",
       "Panama                            4\n",
       "Ecuador                           3\n",
       "Laos                              3\n",
       "Burundi                           2\n",
       "Papua New Guinea                  1\n",
       "Rwanda                            1\n",
       "Zambia                            1\n",
       "Japan                             1\n",
       "Mauritius                         1\n",
       "Cote d?Ivoire                     1\n",
       "Name: count, dtype: int64"
      ]
     },
     "execution_count": 63,
     "metadata": {},
     "output_type": "execute_result"
    }
   ],
   "source": [
    "coffee_dataset_renamed_with_known_countries.country_of_origin.value_counts(dropna = False) # cheking the new dataset for NaN values"
   ]
  },
  {
   "cell_type": "markdown",
   "id": "d0aa6f30-4b93-4f23-95e0-2cafb7152c6c",
   "metadata": {},
   "source": [
    "### Problem 7. Owners (1 point)\n",
    "There are two suspicious columns, named `Owner`, and `Owner.1` (they're likely called something different after you solved problem 3). Do something about them. Is there any link to `Producer`?"
   ]
  },
  {
   "cell_type": "code",
   "execution_count": 68,
   "id": "39bc1689-33f6-4446-bfc3-c4b4e69eccf6",
   "metadata": {},
   "outputs": [
    {
     "data": {
      "text/plain": [
       "owner\n",
       "juan luis alvarado romero           155\n",
       "racafe & cia s.c.a                   60\n",
       "exportadora de cafe condor s.a       54\n",
       "kona pacific farmers cooperative     52\n",
       "ipanema coffees                      50\n",
       "                                   ... \n",
       "alvaro quiros perez                   1\n",
       "olivia hernandez virves               1\n",
       "finca las nieves                      1\n",
       "pedro santos e silva                  1\n",
       "james moore                           1\n",
       "Name: count, Length: 316, dtype: int64"
      ]
     },
     "execution_count": 68,
     "metadata": {},
     "output_type": "execute_result"
    }
   ],
   "source": [
    "coffee_dataset_renamed.owner.value_counts(dropna=False)"
   ]
  },
  {
   "cell_type": "code",
   "execution_count": 69,
   "id": "b4bac69f-5a6f-4e9b-9e10-47e752fc9a16",
   "metadata": {},
   "outputs": [
    {
     "data": {
      "text/plain": [
       "owner_1\n",
       "Juan Luis Alvarado Romero           155\n",
       "Racafe & Cia S.C.A                   60\n",
       "Exportadora de Cafe Condor S.A       54\n",
       "Kona Pacific Farmers Cooperative     52\n",
       "Ipanema Coffees                      50\n",
       "                                   ... \n",
       "ALVARO QUIROS PEREZ                   1\n",
       "OLIVIA HERNANDEZ VIRVES               1\n",
       "FINCA LAS NIEVES                      1\n",
       "Pedro Santos e Silva                  1\n",
       "James Moore                           1\n",
       "Name: count, Length: 320, dtype: int64"
      ]
     },
     "execution_count": 69,
     "metadata": {},
     "output_type": "execute_result"
    }
   ],
   "source": [
    "coffee_dataset_renamed.owner_1.value_counts(dropna=False)"
   ]
  },
  {
   "cell_type": "code",
   "execution_count": 72,
   "id": "6d504678-e4be-48bb-8aea-ae51f8dc37b1",
   "metadata": {},
   "outputs": [
    {
     "data": {
      "text/plain": [
       "producer\n",
       "NaN                             232\n",
       "La Plata                         30\n",
       "Ipanema Agrícola SA              22\n",
       "Doi Tung Development Project     17\n",
       "VARIOS                           12\n",
       "                               ... \n",
       "雅慕伊                               1\n",
       "Kucofa farmers group              1\n",
       "GRUPO MEDINA                      1\n",
       "COFFEE COMPANY / CAFECOL          1\n",
       "Cafe Cazengo                      1\n",
       "Name: count, Length: 693, dtype: int64"
      ]
     },
     "execution_count": 72,
     "metadata": {},
     "output_type": "execute_result"
    }
   ],
   "source": [
    "coffee_dataset_renamed.producer.value_counts(dropna=False)"
   ]
  },
  {
   "cell_type": "markdown",
   "id": "82710aab-90ab-4b23-a41c-eda326eea922",
   "metadata": {},
   "source": [
    "<span style=\"color: green;\">There is one case with unknown owner, owner_1 and producer</span>"
   ]
  },
  {
   "cell_type": "code",
   "execution_count": 77,
   "id": "3ba10ca9-8bde-4fb6-8e8f-9d0b5b163d3e",
   "metadata": {},
   "outputs": [
    {
     "data": {
      "text/plain": [
       "Series([], Name: country_of_origin, dtype: object)"
      ]
     },
     "execution_count": 77,
     "metadata": {},
     "output_type": "execute_result"
    }
   ],
   "source": [
    "coffee_dataset_renamed[\"country_of_origin\"][coffee_dataset_renamed.owner == \"NaN\"]"
   ]
  },
  {
   "cell_type": "code",
   "execution_count": 78,
   "id": "082a9843-310d-41cc-b045-233ecafc8ec9",
   "metadata": {},
   "outputs": [],
   "source": [
    "# checking if owner and owner_1 are the different\n",
    "owner_comparison = coffee_dataset_renamed.owner == coffee_dataset_renamed.owner_1"
   ]
  },
  {
   "cell_type": "code",
   "execution_count": 81,
   "id": "c350fabd-5dd4-4309-a3ae-c3c85438efbc",
   "metadata": {},
   "outputs": [
    {
     "data": {
      "text/plain": [
       "3"
      ]
     },
     "execution_count": 81,
     "metadata": {},
     "output_type": "execute_result"
    }
   ],
   "source": [
    "owner_comparison.sum()"
   ]
  },
  {
   "cell_type": "code",
   "execution_count": 83,
   "id": "f43cd557-25b8-41cb-b18c-d0dfe20102c4",
   "metadata": {},
   "outputs": [
    {
     "data": {
      "text/plain": [
       "1336"
      ]
     },
     "execution_count": 83,
     "metadata": {},
     "output_type": "execute_result"
    }
   ],
   "source": [
    "(~owner_comparison).sum()"
   ]
  },
  {
   "cell_type": "markdown",
   "id": "7cd06e22-cb48-41ba-b683-7dc476923059",
   "metadata": {},
   "source": [
    "<span style=\"color: green;\">Almost all values in the columns \"owner\" and \"owner_1\" differ</span>"
   ]
  },
  {
   "cell_type": "code",
   "execution_count": 89,
   "id": "e2b41c9e-649f-447d-8e12-2a0c32190cb7",
   "metadata": {},
   "outputs": [],
   "source": [
    "# checking if owner and producer have same values\n",
    "owner_producer_comparison = coffee_dataset_renamed.owner == coffee_dataset_renamed.producer"
   ]
  },
  {
   "cell_type": "code",
   "execution_count": 90,
   "id": "b668d73d-9ef9-4aea-88f6-83f2380b7117",
   "metadata": {},
   "outputs": [
    {
     "data": {
      "text/plain": [
       "0"
      ]
     },
     "execution_count": 90,
     "metadata": {},
     "output_type": "execute_result"
    }
   ],
   "source": [
    "owner_producer_comparison.sum()"
   ]
  },
  {
   "cell_type": "code",
   "execution_count": 91,
   "id": "7e7f4386-b98a-4e47-94aa-1b3566df7e67",
   "metadata": {},
   "outputs": [
    {
     "data": {
      "text/plain": [
       "1339"
      ]
     },
     "execution_count": 91,
     "metadata": {},
     "output_type": "execute_result"
    }
   ],
   "source": [
    "(~owner_producer_comparison).sum()"
   ]
  },
  {
   "cell_type": "markdown",
   "id": "d4efd26b-f614-46f5-92ba-6cfcfd45783a",
   "metadata": {},
   "source": [
    "<span style=\"color: green;\">\"owner\" and \"producer\" have no common values</span>"
   ]
  },
  {
   "cell_type": "code",
   "execution_count": 87,
   "id": "3dc04d0a-7c0f-4b0f-af2e-c28a3d9b15db",
   "metadata": {},
   "outputs": [],
   "source": [
    "# the case with unknown owner, owner_1 and producer can be excluded\n",
    "coffee_dataset_renamed_with_known_owners = coffee_dataset_renamed[pd.notna(coffee_dataset_renamed.owner)]"
   ]
  },
  {
   "cell_type": "code",
   "execution_count": 88,
   "id": "f547f47d-2be1-4011-baf2-d8928420d986",
   "metadata": {},
   "outputs": [
    {
     "data": {
      "text/plain": [
       "owner\n",
       "juan luis alvarado romero           155\n",
       "racafe & cia s.c.a                   60\n",
       "exportadora de cafe condor s.a       54\n",
       "kona pacific farmers cooperative     52\n",
       "ipanema coffees                      50\n",
       "                                   ... \n",
       "alvaro quiros perez                   1\n",
       "olivia hernandez virves               1\n",
       "finca las nieves                      1\n",
       "pedro santos e silva                  1\n",
       "james moore                           1\n",
       "Name: count, Length: 315, dtype: int64"
      ]
     },
     "execution_count": 88,
     "metadata": {},
     "output_type": "execute_result"
    }
   ],
   "source": [
    "coffee_dataset_renamed_with_known_owners.owner.value_counts(dropna = False)"
   ]
  },
  {
   "cell_type": "markdown",
   "id": "30c53923-1b72-4500-af0a-47fdca9f57e9",
   "metadata": {},
   "source": [
    "### Problem 8. Coffee color by country and continent (1 point)\n",
    "Create a table which shows how many coffees of each color are there in every country. Leave the missing values as they are.\n",
    "\n",
    "**Note:** If you ask me, countries should be in rows, I prefer long tables much better than wide ones.\n",
    "\n",
    "Now do the same for continents. You know what continent each country is located in."
   ]
  },
  {
   "cell_type": "markdown",
   "id": "ac1b8526-5a5a-4159-8a44-dbc713b93477",
   "metadata": {},
   "source": [
    "### Grouping by color and country"
   ]
  },
  {
   "cell_type": "code",
   "execution_count": 98,
   "id": "72cbe6a9-ca71-4826-806d-562bc30b40d2",
   "metadata": {},
   "outputs": [
    {
     "data": {
      "text/plain": [
       "country_of_origin            color       \n",
       "Brazil                       Blue-Green      14\n",
       "                             Bluish-Green    12\n",
       "                             Green           92\n",
       "Burundi                      Green            1\n",
       "China                        Green           16\n",
       "                                             ..\n",
       "United States (Hawaii)       Green           21\n",
       "United States (Puerto Rico)  Bluish-Green     1\n",
       "                             Green            3\n",
       "Vietnam                      Bluish-Green     1\n",
       "                             Green            3\n",
       "Length: 79, dtype: int64"
      ]
     },
     "execution_count": 98,
     "metadata": {},
     "output_type": "execute_result"
    }
   ],
   "source": [
    "# grouping the data by country and color\n",
    "coffee_dataset_renamed.groupby(['country_of_origin', 'color']).size()"
   ]
  },
  {
   "cell_type": "code",
   "execution_count": 95,
   "id": "01c86194-a892-4cef-aff6-ca8366702eb3",
   "metadata": {},
   "outputs": [],
   "source": [
    "# saving the data in a new dataset\n",
    "color_country_data = coffee_dataset_renamed.groupby(['country_of_origin', 'color']).size().reset_index(name ='count')"
   ]
  },
  {
   "cell_type": "code",
   "execution_count": 96,
   "id": "aad56cda-334a-463f-9ce7-0e8c39545d7f",
   "metadata": {},
   "outputs": [
    {
     "data": {
      "text/html": [
       "<div>\n",
       "<style scoped>\n",
       "    .dataframe tbody tr th:only-of-type {\n",
       "        vertical-align: middle;\n",
       "    }\n",
       "\n",
       "    .dataframe tbody tr th {\n",
       "        vertical-align: top;\n",
       "    }\n",
       "\n",
       "    .dataframe thead th {\n",
       "        text-align: right;\n",
       "    }\n",
       "</style>\n",
       "<table border=\"1\" class=\"dataframe\">\n",
       "  <thead>\n",
       "    <tr style=\"text-align: right;\">\n",
       "      <th></th>\n",
       "      <th>country_of_origin</th>\n",
       "      <th>color</th>\n",
       "      <th>count</th>\n",
       "    </tr>\n",
       "  </thead>\n",
       "  <tbody>\n",
       "    <tr>\n",
       "      <th>0</th>\n",
       "      <td>Brazil</td>\n",
       "      <td>Blue-Green</td>\n",
       "      <td>14</td>\n",
       "    </tr>\n",
       "    <tr>\n",
       "      <th>1</th>\n",
       "      <td>Brazil</td>\n",
       "      <td>Bluish-Green</td>\n",
       "      <td>12</td>\n",
       "    </tr>\n",
       "    <tr>\n",
       "      <th>2</th>\n",
       "      <td>Brazil</td>\n",
       "      <td>Green</td>\n",
       "      <td>92</td>\n",
       "    </tr>\n",
       "    <tr>\n",
       "      <th>3</th>\n",
       "      <td>Burundi</td>\n",
       "      <td>Green</td>\n",
       "      <td>1</td>\n",
       "    </tr>\n",
       "    <tr>\n",
       "      <th>4</th>\n",
       "      <td>China</td>\n",
       "      <td>Green</td>\n",
       "      <td>16</td>\n",
       "    </tr>\n",
       "    <tr>\n",
       "      <th>...</th>\n",
       "      <td>...</td>\n",
       "      <td>...</td>\n",
       "      <td>...</td>\n",
       "    </tr>\n",
       "    <tr>\n",
       "      <th>74</th>\n",
       "      <td>United States (Hawaii)</td>\n",
       "      <td>Green</td>\n",
       "      <td>21</td>\n",
       "    </tr>\n",
       "    <tr>\n",
       "      <th>75</th>\n",
       "      <td>United States (Puerto Rico)</td>\n",
       "      <td>Bluish-Green</td>\n",
       "      <td>1</td>\n",
       "    </tr>\n",
       "    <tr>\n",
       "      <th>76</th>\n",
       "      <td>United States (Puerto Rico)</td>\n",
       "      <td>Green</td>\n",
       "      <td>3</td>\n",
       "    </tr>\n",
       "    <tr>\n",
       "      <th>77</th>\n",
       "      <td>Vietnam</td>\n",
       "      <td>Bluish-Green</td>\n",
       "      <td>1</td>\n",
       "    </tr>\n",
       "    <tr>\n",
       "      <th>78</th>\n",
       "      <td>Vietnam</td>\n",
       "      <td>Green</td>\n",
       "      <td>3</td>\n",
       "    </tr>\n",
       "  </tbody>\n",
       "</table>\n",
       "<p>79 rows × 3 columns</p>\n",
       "</div>"
      ],
      "text/plain": [
       "              country_of_origin         color  count\n",
       "0                        Brazil    Blue-Green     14\n",
       "1                        Brazil  Bluish-Green     12\n",
       "2                        Brazil         Green     92\n",
       "3                       Burundi         Green      1\n",
       "4                         China         Green     16\n",
       "..                          ...           ...    ...\n",
       "74       United States (Hawaii)         Green     21\n",
       "75  United States (Puerto Rico)  Bluish-Green      1\n",
       "76  United States (Puerto Rico)         Green      3\n",
       "77                      Vietnam  Bluish-Green      1\n",
       "78                      Vietnam         Green      3\n",
       "\n",
       "[79 rows x 3 columns]"
      ]
     },
     "execution_count": 96,
     "metadata": {},
     "output_type": "execute_result"
    }
   ],
   "source": [
    "color_country_data"
   ]
  },
  {
   "cell_type": "code",
   "execution_count": 154,
   "id": "ecc667a3-acc7-4722-a3e4-3021c1cd8ef0",
   "metadata": {},
   "outputs": [
    {
     "data": {
      "text/plain": [
       "array(['Blue-Green', 'Bluish-Green', 'Green'], dtype=object)"
      ]
     },
     "execution_count": 154,
     "metadata": {},
     "output_type": "execute_result"
    }
   ],
   "source": [
    "color_country_data.color.unique() # checking available colors"
   ]
  },
  {
   "cell_type": "code",
   "execution_count": 142,
   "id": "5580b772-bfd3-4091-952c-93d58b0a5c93",
   "metadata": {},
   "outputs": [
    {
     "data": {
      "image/png": "[encoded data removed]",
      "text/plain": [
       "<Figure size 1400x600 with 1 Axes>"
      ]
     },
     "metadata": {},
     "output_type": "display_data"
    }
   ],
   "source": [
    "# Plotting the count of different colors coffee by countries\n",
    "plt.figure(figsize=(14, 6))\n",
    "sns.barplot(x = \"country_of_origin\", y = \"count\", hue = \"color\", data = color_country_data)\n",
    "plt.title('Count of Coffee by Color and Country')\n",
    "plt.xlabel('Country')\n",
    "plt.ylabel('Count')\n",
    "plt.xticks(rotation=90)\n",
    "plt.legend(title='Coffee Color')\n",
    "plt.tight_layout()\n",
    "plt.show()"
   ]
  },
  {
   "cell_type": "code",
   "execution_count": 147,
   "id": "6fae97f6-443e-46c4-93a8-6f04e26f3b98",
   "metadata": {},
   "outputs": [
    {
     "data": {
      "text/plain": [
       "country_of_origin\n",
       "Brazil                          1\n",
       "Mauritius                       1\n",
       "United States (Puerto Rico)     1\n",
       "United States (Hawaii)          1\n",
       "United States                   1\n",
       "Uganda                          1\n",
       "Thailand                        1\n",
       "Tanzania, United Republic Of    1\n",
       "Taiwan                          1\n",
       "Philippines                     1\n",
       "Peru                            1\n",
       "Panama                          1\n",
       "Nicaragua                       1\n",
       "Myanmar                         1\n",
       "Mexico                          1\n",
       "Malawi                          1\n",
       "Burundi                         1\n",
       "Laos                            1\n",
       "Kenya                           1\n",
       "Japan                           1\n",
       "Indonesia                       1\n",
       "India                           1\n",
       "Honduras                        1\n",
       "Haiti                           1\n",
       "Guatemala                       1\n",
       "Ethiopia                        1\n",
       "El Salvador                     1\n",
       "Costa Rica                      1\n",
       "Colombia                        1\n",
       "China                           1\n",
       "Vietnam                         1\n",
       "Name: count, dtype: int64"
      ]
     },
     "execution_count": 147,
     "metadata": {},
     "output_type": "execute_result"
    }
   ],
   "source": [
    "color_country_data[color_country_data.color == \"Green\"].country_of_origin.value_counts()"
   ]
  },
  {
   "cell_type": "code",
   "execution_count": 158,
   "id": "845108b3-4e79-4dbc-86b8-418aafd03409",
   "metadata": {},
   "outputs": [
    {
     "data": {
      "text/plain": [
       "870"
      ]
     },
     "execution_count": 158,
     "metadata": {},
     "output_type": "execute_result"
    }
   ],
   "source": [
    "color_country_data[color_country_data.color == \"Green\"][\"count\"].sum() # checking amount of green coffees"
   ]
  },
  {
   "cell_type": "code",
   "execution_count": 148,
   "id": "98bfefe8-bc5b-46c3-8e58-86b35a2a3c8b",
   "metadata": {},
   "outputs": [
    {
     "data": {
      "text/plain": [
       "country_of_origin\n",
       "Brazil                    1\n",
       "Kenya                     1\n",
       "Uganda                    1\n",
       "Thailand                  1\n",
       "Taiwan                    1\n",
       "Philippines               1\n",
       "Mexico                    1\n",
       "Malawi                    1\n",
       "Laos                      1\n",
       "Indonesia                 1\n",
       "Colombia                  1\n",
       "India                     1\n",
       "Honduras                  1\n",
       "Haiti                     1\n",
       "Guatemala                 1\n",
       "El Salvador               1\n",
       "Ecuador                   1\n",
       "Costa Rica                1\n",
       "United States (Hawaii)    1\n",
       "Name: count, dtype: int64"
      ]
     },
     "execution_count": 148,
     "metadata": {},
     "output_type": "execute_result"
    }
   ],
   "source": [
    "color_country_data[color_country_data.color == \"Blue-Green\"].country_of_origin.value_counts()"
   ]
  },
  {
   "cell_type": "code",
   "execution_count": 159,
   "id": "c2e5e7cd-5dee-4cea-813a-0cc638f228d7",
   "metadata": {},
   "outputs": [
    {
     "data": {
      "text/plain": [
       "85"
      ]
     },
     "execution_count": 159,
     "metadata": {},
     "output_type": "execute_result"
    }
   ],
   "source": [
    "color_country_data[color_country_data.color == \"Blue-Green\"][\"count\"].sum() # checking amount of Blue-Green coffees"
   ]
  },
  {
   "cell_type": "code",
   "execution_count": 162,
   "id": "dc116598-4796-4269-9701-2a3c9539e0c3",
   "metadata": {},
   "outputs": [
    {
     "data": {
      "text/plain": [
       "country_of_origin\n",
       "Brazil                          1\n",
       "Mexico                          1\n",
       "United States (Puerto Rico)     1\n",
       "United States (Hawaii)          1\n",
       "Uganda                          1\n",
       "Thailand                        1\n",
       "Tanzania, United Republic Of    1\n",
       "Taiwan                          1\n",
       "Rwanda                          1\n",
       "Philippines                     1\n",
       "Peru                            1\n",
       "Papua New Guinea                1\n",
       "Panama                          1\n",
       "Nicaragua                       1\n",
       "Malawi                          1\n",
       "Colombia                        1\n",
       "Laos                            1\n",
       "Kenya                           1\n",
       "Indonesia                       1\n",
       "India                           1\n",
       "Honduras                        1\n",
       "Haiti                           1\n",
       "Guatemala                       1\n",
       "Ethiopia                        1\n",
       "El Salvador                     1\n",
       "Ecuador                         1\n",
       "Cote d?Ivoire                   1\n",
       "Costa Rica                      1\n",
       "Vietnam                         1\n",
       "Name: count, dtype: int64"
      ]
     },
     "execution_count": 162,
     "metadata": {},
     "output_type": "execute_result"
    }
   ],
   "source": [
    "color_country_data[color_country_data.color == \"Bluish-Green\"].country_of_origin.value_counts()"
   ]
  },
  {
   "cell_type": "code",
   "execution_count": 160,
   "id": "5e1ca48a-0d46-4523-b393-d4f1fc8d0d62",
   "metadata": {},
   "outputs": [
    {
     "data": {
      "text/plain": [
       "114"
      ]
     },
     "execution_count": 160,
     "metadata": {},
     "output_type": "execute_result"
    }
   ],
   "source": [
    "color_country_data[color_country_data.color == \"Bluish-Green\"][\"count\"].sum() # checking amount of Bluish-Green coffees"
   ]
  },
  {
   "cell_type": "markdown",
   "id": "ff40677a-a315-413a-b816-6fb5a12305b0",
   "metadata": {},
   "source": [
    "<span style=\"color: green;\">The green coffee is farmed most frequently. It is the most popular color, followed far by Bluish-Green and Blue-Green.</span>"
   ]
  },
  {
   "cell_type": "markdown",
   "id": "66f09588-8d9f-41fa-b598-2b5f8e7c2d13",
   "metadata": {},
   "source": [
    "### Grouping by color and continent"
   ]
  },
  {
   "cell_type": "code",
   "execution_count": 101,
   "id": "b4cbf7a1-8b8d-46c9-bea0-06b4ed383ca7",
   "metadata": {},
   "outputs": [],
   "source": [
    "# creating a mapper of each country to the corresponding continent\n",
    "country_mapper = {\n",
    "    'Afghanistan': 'Asia',\n",
    "    'Albania': 'Europe',\n",
    "    'Algeria': 'Africa',\n",
    "    'Andorra': 'Europe',\n",
    "    'Angola': 'Africa',\n",
    "    'Antigua and Barbuda': 'North America',\n",
    "    'Argentina': 'South America',\n",
    "    'Armenia': 'Asia',\n",
    "    'Australia': 'Australia',\n",
    "    'Austria': 'Europe',\n",
    "    'Azerbaijan': 'Asia',\n",
    "    'Bahamas': 'North America',\n",
    "    'Bahrain': 'Asia',\n",
    "    'Bangladesh': 'Asia',\n",
    "    'Barbados': 'North America',\n",
    "    'Belarus': 'Europe',\n",
    "    'Belgium': 'Europe',\n",
    "    'Belize': 'North America',\n",
    "    'Benin': 'Africa',\n",
    "    'Bhutan': 'Asia',\n",
    "    'Bolivia': 'South America',\n",
    "    'Bosnia and Herzegovina': 'Europe',\n",
    "    'Botswana': 'Africa',\n",
    "    'Brazil': 'South America',\n",
    "    'Brunei': 'Asia',\n",
    "    'Bulgaria': 'Europe',\n",
    "    'Burkina Faso': 'Africa',\n",
    "    'Burundi': 'Africa',\n",
    "    'Cabo Verde': 'Africa',\n",
    "    'Cambodia': 'Asia',\n",
    "    'Cameroon': 'Africa',\n",
    "    'Canada': 'North America',\n",
    "    'Central African Republic': 'Africa',\n",
    "    'Chad': 'Africa',\n",
    "    'Chile': 'South America',\n",
    "    'China': 'Asia',\n",
    "    'Colombia': 'South America',\n",
    "    'Comoros': 'Africa',\n",
    "    'Congo, Democratic Republic of the': 'Africa',\n",
    "    'Congo, Republic of the': 'Africa',\n",
    "    'Costa Rica': 'North America',\n",
    "    'Croatia': 'Europe',\n",
    "    'Cuba': 'North America',\n",
    "    'Cyprus': 'Asia',\n",
    "    'Czech Republic': 'Europe',\n",
    "    'Denmark': 'Europe',\n",
    "    'Djibouti': 'Africa',\n",
    "    'Dominica': 'North America',\n",
    "    'Dominican Republic': 'North America',\n",
    "    'Ecuador': 'South America',\n",
    "    'Egypt': 'Africa',\n",
    "    'El Salvador': 'North America',\n",
    "    'Equatorial Guinea': 'Africa',\n",
    "    'Eritrea': 'Africa',\n",
    "    'Estonia': 'Europe',\n",
    "    'Eswatini': 'Africa',\n",
    "    'Ethiopia': 'Africa',\n",
    "    'Fiji': 'Australia',\n",
    "    'Finland': 'Europe',\n",
    "    'France': 'Europe',\n",
    "    'Gabon': 'Africa',\n",
    "    'Gambia': 'Africa',\n",
    "    'Georgia': 'Asia',\n",
    "    'Germany': 'Europe',\n",
    "    'Ghana': 'Africa',\n",
    "    'Greece': 'Europe',\n",
    "    'Grenada': 'North America',\n",
    "    'Guatemala': 'North America',\n",
    "    'Guinea': 'Africa',\n",
    "    'Guinea-Bissau': 'Africa',\n",
    "    'Guyana': 'South America',\n",
    "    'Haiti': 'North America',\n",
    "    'Honduras': 'North America',\n",
    "    'Hungary': 'Europe',\n",
    "    'Iceland': 'Europe',\n",
    "    'India': 'Asia',\n",
    "    'Indonesia': 'Asia',\n",
    "    'Iran': 'Asia',\n",
    "    'Iraq': 'Asia',\n",
    "    'Ireland': 'Europe',\n",
    "    'Israel': 'Asia',\n",
    "    'Italy': 'Europe',\n",
    "    'Jamaica': 'North America',\n",
    "    'Japan': 'Asia',\n",
    "    'Jordan': 'Asia',\n",
    "    'Kazakhstan': 'Asia',\n",
    "    'Kenya': 'Africa',\n",
    "    'Kiribati': 'Australia',\n",
    "    'Korea, North': 'Asia',\n",
    "    'Korea, South': 'Asia',\n",
    "    'Kuwait': 'Asia',\n",
    "    'Kyrgyzstan': 'Asia',\n",
    "    'Laos': 'Asia',\n",
    "    'Latvia': 'Europe',\n",
    "    'Lebanon': 'Asia',\n",
    "    'Lesotho': 'Africa',\n",
    "    'Liberia': 'Africa',\n",
    "    'Libya': 'Africa',\n",
    "    'Liechtenstein': 'Europe',\n",
    "    'Lithuania': 'Europe',\n",
    "    'Luxembourg': 'Europe',\n",
    "    'Madagascar': 'Africa',\n",
    "    'Malawi': 'Africa',\n",
    "    'Malaysia': 'Asia',\n",
    "    'Maldives': 'Asia',\n",
    "    'Mali': 'Africa',\n",
    "    'Malta': 'Europe',\n",
    "    'Marshall Islands': 'Australia',\n",
    "    'Mauritania': 'Africa',\n",
    "    'Mauritius': 'Africa',\n",
    "    'Mexico': 'North America',\n",
    "    'Micronesia': 'Australia',\n",
    "    'Moldova': 'Europe',\n",
    "    'Monaco': 'Europe',\n",
    "    'Mongolia': 'Asia',\n",
    "    'Montenegro': 'Europe',\n",
    "    'Morocco': 'Africa',\n",
    "    'Mozambique': 'Africa',\n",
    "    'Myanmar': 'Asia',\n",
    "    'Namibia': 'Africa',\n",
    "    'Nauru': 'Australia',\n",
    "    'Nepal': 'Asia',\n",
    "    'Netherlands': 'Europe',\n",
    "    'New Zealand': 'Australia',\n",
    "    'Nicaragua': 'North America',\n",
    "    'Niger': 'Africa',\n",
    "    'Nigeria': 'Africa',\n",
    "    'North Macedonia': 'Europe',\n",
    "    'Norway': 'Europe',\n",
    "    'Oman': 'Asia',\n",
    "    'Pakistan': 'Asia',\n",
    "    'Palau': 'Australia',\n",
    "    'Palestine': 'Asia',\n",
    "    'Panama': 'North America',\n",
    "    'Papua New Guinea': 'Australia',\n",
    "    'Paraguay': 'South America',\n",
    "    'Peru': 'South America',\n",
    "    'Philippines': 'Asia',\n",
    "    'Poland': 'Europe',\n",
    "    'Portugal': 'Europe',\n",
    "    'Qatar': 'Asia',\n",
    "    'Romania': 'Europe',\n",
    "    'Russia': 'Europe',\n",
    "    'Rwanda': 'Africa',\n",
    "    'Saint Kitts and Nevis': 'North America',\n",
    "    'Saint Lucia': 'North America',\n",
    "    'Saint Vincent and the Grenadines': 'North America',\n",
    "    'Samoa': 'Australia',\n",
    "    'San Marino': 'Europe',\n",
    "    'Sao Tome and Principe': 'Africa',\n",
    "    'Saudi Arabia': 'Asia',\n",
    "    'Senegal': 'Africa',\n",
    "    'Serbia': 'Europe',\n",
    "    'Seychelles': 'Africa',\n",
    "    'Sierra Leone': 'Africa',\n",
    "    'Singapore': 'Asia',\n",
    "    'Slovakia': 'Europe',\n",
    "    'Slovenia': 'Europe',\n",
    "    'Solomon Islands': 'Australia',\n",
    "    'Somalia': 'Africa',\n",
    "    'South Africa': 'Africa',\n",
    "    'South Sudan': 'Africa',\n",
    "    'Spain': 'Europe',\n",
    "    'Sri Lanka': 'Asia',\n",
    "    'Sudan': 'Africa',\n",
    "    'Suriname': 'South America',\n",
    "    'Sweden': 'Europe',\n",
    "    'Switzerland': 'Europe',\n",
    "    'Syria': 'Asia',\n",
    "    'Taiwan': 'Asia',\n",
    "    'Tajikistan': 'Asia',\n",
    "    'Tanzania': 'Africa',\n",
    "    'Thailand': 'Asia',\n",
    "    'Timor-Leste': 'Asia',\n",
    "    'Togo': 'Africa',\n",
    "    'Tonga': 'Australia',\n",
    "    'Trinidad and Tobago': 'North America',\n",
    "    'Tunisia': 'Africa',\n",
    "    'Turkey': 'Asia',\n",
    "    'Turkmenistan': 'Asia',\n",
    "    'Tuvalu': 'Australia',\n",
    "    'Uganda': 'Africa',\n",
    "    'Ukraine': 'Europe',\n",
    "    'United Arab Emirates': 'Asia',\n",
    "    'United Kingdom': 'Europe',\n",
    "    'United States': 'North America',\n",
    "    'Uruguay': 'South America',\n",
    "    'Uzbekistan': 'Asia',\n",
    "    'Vanuatu': 'Australia',\n",
    "    'Vatican City': 'Europe',\n",
    "    'Venezuela': 'South America',\n",
    "    'Vietnam': 'Asia',\n",
    "    'Yemen': 'Asia',\n",
    "    'Zambia': 'Africa',\n",
    "    'Zimbabwe': 'Africa'\n",
    "}"
   ]
  },
  {
   "cell_type": "code",
   "execution_count": 102,
   "id": "abd4f4bb-7bfd-4ec6-9efd-d8137fbef8c6",
   "metadata": {},
   "outputs": [],
   "source": [
    "color_country_data['continent'] = color_country_data.country_of_origin.map(country_mapper) # adding additional column referring to the continent"
   ]
  },
  {
   "cell_type": "code",
   "execution_count": 103,
   "id": "072aa189-81e8-4d68-8c0a-f60c7acfb3a0",
   "metadata": {
    "scrolled": true
   },
   "outputs": [
    {
     "data": {
      "text/html": [
       "<div>\n",
       "<style scoped>\n",
       "    .dataframe tbody tr th:only-of-type {\n",
       "        vertical-align: middle;\n",
       "    }\n",
       "\n",
       "    .dataframe tbody tr th {\n",
       "        vertical-align: top;\n",
       "    }\n",
       "\n",
       "    .dataframe thead th {\n",
       "        text-align: right;\n",
       "    }\n",
       "</style>\n",
       "<table border=\"1\" class=\"dataframe\">\n",
       "  <thead>\n",
       "    <tr style=\"text-align: right;\">\n",
       "      <th></th>\n",
       "      <th>country_of_origin</th>\n",
       "      <th>color</th>\n",
       "      <th>count</th>\n",
       "      <th>continent</th>\n",
       "    </tr>\n",
       "  </thead>\n",
       "  <tbody>\n",
       "    <tr>\n",
       "      <th>0</th>\n",
       "      <td>Brazil</td>\n",
       "      <td>Blue-Green</td>\n",
       "      <td>14</td>\n",
       "      <td>South America</td>\n",
       "    </tr>\n",
       "    <tr>\n",
       "      <th>1</th>\n",
       "      <td>Brazil</td>\n",
       "      <td>Bluish-Green</td>\n",
       "      <td>12</td>\n",
       "      <td>South America</td>\n",
       "    </tr>\n",
       "    <tr>\n",
       "      <th>2</th>\n",
       "      <td>Brazil</td>\n",
       "      <td>Green</td>\n",
       "      <td>92</td>\n",
       "      <td>South America</td>\n",
       "    </tr>\n",
       "    <tr>\n",
       "      <th>3</th>\n",
       "      <td>Burundi</td>\n",
       "      <td>Green</td>\n",
       "      <td>1</td>\n",
       "      <td>Africa</td>\n",
       "    </tr>\n",
       "    <tr>\n",
       "      <th>4</th>\n",
       "      <td>China</td>\n",
       "      <td>Green</td>\n",
       "      <td>16</td>\n",
       "      <td>Asia</td>\n",
       "    </tr>\n",
       "    <tr>\n",
       "      <th>...</th>\n",
       "      <td>...</td>\n",
       "      <td>...</td>\n",
       "      <td>...</td>\n",
       "      <td>...</td>\n",
       "    </tr>\n",
       "    <tr>\n",
       "      <th>74</th>\n",
       "      <td>United States (Hawaii)</td>\n",
       "      <td>Green</td>\n",
       "      <td>21</td>\n",
       "      <td>NaN</td>\n",
       "    </tr>\n",
       "    <tr>\n",
       "      <th>75</th>\n",
       "      <td>United States (Puerto Rico)</td>\n",
       "      <td>Bluish-Green</td>\n",
       "      <td>1</td>\n",
       "      <td>NaN</td>\n",
       "    </tr>\n",
       "    <tr>\n",
       "      <th>76</th>\n",
       "      <td>United States (Puerto Rico)</td>\n",
       "      <td>Green</td>\n",
       "      <td>3</td>\n",
       "      <td>NaN</td>\n",
       "    </tr>\n",
       "    <tr>\n",
       "      <th>77</th>\n",
       "      <td>Vietnam</td>\n",
       "      <td>Bluish-Green</td>\n",
       "      <td>1</td>\n",
       "      <td>Asia</td>\n",
       "    </tr>\n",
       "    <tr>\n",
       "      <th>78</th>\n",
       "      <td>Vietnam</td>\n",
       "      <td>Green</td>\n",
       "      <td>3</td>\n",
       "      <td>Asia</td>\n",
       "    </tr>\n",
       "  </tbody>\n",
       "</table>\n",
       "<p>79 rows × 4 columns</p>\n",
       "</div>"
      ],
      "text/plain": [
       "              country_of_origin         color  count      continent\n",
       "0                        Brazil    Blue-Green     14  South America\n",
       "1                        Brazil  Bluish-Green     12  South America\n",
       "2                        Brazil         Green     92  South America\n",
       "3                       Burundi         Green      1         Africa\n",
       "4                         China         Green     16           Asia\n",
       "..                          ...           ...    ...            ...\n",
       "74       United States (Hawaii)         Green     21            NaN\n",
       "75  United States (Puerto Rico)  Bluish-Green      1            NaN\n",
       "76  United States (Puerto Rico)         Green      3            NaN\n",
       "77                      Vietnam  Bluish-Green      1           Asia\n",
       "78                      Vietnam         Green      3           Asia\n",
       "\n",
       "[79 rows x 4 columns]"
      ]
     },
     "execution_count": 103,
     "metadata": {},
     "output_type": "execute_result"
    }
   ],
   "source": [
    "color_country_data # checking if the new column is added"
   ]
  },
  {
   "cell_type": "code",
   "execution_count": 106,
   "id": "d1686a28-a797-4594-8bc6-5f3744b17d41",
   "metadata": {},
   "outputs": [
    {
     "data": {
      "text/html": [
       "<div>\n",
       "<style scoped>\n",
       "    .dataframe tbody tr th:only-of-type {\n",
       "        vertical-align: middle;\n",
       "    }\n",
       "\n",
       "    .dataframe tbody tr th {\n",
       "        vertical-align: top;\n",
       "    }\n",
       "\n",
       "    .dataframe thead th {\n",
       "        text-align: right;\n",
       "    }\n",
       "</style>\n",
       "<table border=\"1\" class=\"dataframe\">\n",
       "  <thead>\n",
       "    <tr style=\"text-align: right;\">\n",
       "      <th></th>\n",
       "      <th>continent</th>\n",
       "      <th>country_of_origin</th>\n",
       "      <th>color</th>\n",
       "      <th>count</th>\n",
       "    </tr>\n",
       "  </thead>\n",
       "  <tbody>\n",
       "    <tr>\n",
       "      <th>0</th>\n",
       "      <td>South America</td>\n",
       "      <td>Brazil</td>\n",
       "      <td>Blue-Green</td>\n",
       "      <td>14</td>\n",
       "    </tr>\n",
       "    <tr>\n",
       "      <th>1</th>\n",
       "      <td>South America</td>\n",
       "      <td>Brazil</td>\n",
       "      <td>Bluish-Green</td>\n",
       "      <td>12</td>\n",
       "    </tr>\n",
       "    <tr>\n",
       "      <th>2</th>\n",
       "      <td>South America</td>\n",
       "      <td>Brazil</td>\n",
       "      <td>Green</td>\n",
       "      <td>92</td>\n",
       "    </tr>\n",
       "    <tr>\n",
       "      <th>3</th>\n",
       "      <td>Africa</td>\n",
       "      <td>Burundi</td>\n",
       "      <td>Green</td>\n",
       "      <td>1</td>\n",
       "    </tr>\n",
       "    <tr>\n",
       "      <th>4</th>\n",
       "      <td>Asia</td>\n",
       "      <td>China</td>\n",
       "      <td>Green</td>\n",
       "      <td>16</td>\n",
       "    </tr>\n",
       "    <tr>\n",
       "      <th>...</th>\n",
       "      <td>...</td>\n",
       "      <td>...</td>\n",
       "      <td>...</td>\n",
       "      <td>...</td>\n",
       "    </tr>\n",
       "    <tr>\n",
       "      <th>74</th>\n",
       "      <td>NaN</td>\n",
       "      <td>United States (Hawaii)</td>\n",
       "      <td>Green</td>\n",
       "      <td>21</td>\n",
       "    </tr>\n",
       "    <tr>\n",
       "      <th>75</th>\n",
       "      <td>NaN</td>\n",
       "      <td>United States (Puerto Rico)</td>\n",
       "      <td>Bluish-Green</td>\n",
       "      <td>1</td>\n",
       "    </tr>\n",
       "    <tr>\n",
       "      <th>76</th>\n",
       "      <td>NaN</td>\n",
       "      <td>United States (Puerto Rico)</td>\n",
       "      <td>Green</td>\n",
       "      <td>3</td>\n",
       "    </tr>\n",
       "    <tr>\n",
       "      <th>77</th>\n",
       "      <td>Asia</td>\n",
       "      <td>Vietnam</td>\n",
       "      <td>Bluish-Green</td>\n",
       "      <td>1</td>\n",
       "    </tr>\n",
       "    <tr>\n",
       "      <th>78</th>\n",
       "      <td>Asia</td>\n",
       "      <td>Vietnam</td>\n",
       "      <td>Green</td>\n",
       "      <td>3</td>\n",
       "    </tr>\n",
       "  </tbody>\n",
       "</table>\n",
       "<p>79 rows × 4 columns</p>\n",
       "</div>"
      ],
      "text/plain": [
       "        continent            country_of_origin         color  count\n",
       "0   South America                       Brazil    Blue-Green     14\n",
       "1   South America                       Brazil  Bluish-Green     12\n",
       "2   South America                       Brazil         Green     92\n",
       "3          Africa                      Burundi         Green      1\n",
       "4            Asia                        China         Green     16\n",
       "..            ...                          ...           ...    ...\n",
       "74            NaN       United States (Hawaii)         Green     21\n",
       "75            NaN  United States (Puerto Rico)  Bluish-Green      1\n",
       "76            NaN  United States (Puerto Rico)         Green      3\n",
       "77           Asia                      Vietnam  Bluish-Green      1\n",
       "78           Asia                      Vietnam         Green      3\n",
       "\n",
       "[79 rows x 4 columns]"
      ]
     },
     "execution_count": 106,
     "metadata": {},
     "output_type": "execute_result"
    }
   ],
   "source": [
    "color_country_data[['continent', 'country_of_origin', 'color', 'count']]"
   ]
  },
  {
   "cell_type": "code",
   "execution_count": 107,
   "id": "5ea74d5e-1d8e-460f-9845-f408fb1eb682",
   "metadata": {},
   "outputs": [
    {
     "data": {
      "text/plain": [
       "continent      color       \n",
       "Africa         Blue-Green       3\n",
       "               Bluish-Green     5\n",
       "               Green            6\n",
       "Asia           Blue-Green       6\n",
       "               Bluish-Green     7\n",
       "               Green           10\n",
       "Australia      Bluish-Green     1\n",
       "North America  Blue-Green       6\n",
       "               Bluish-Green     8\n",
       "               Green            9\n",
       "South America  Blue-Green       3\n",
       "               Bluish-Green     4\n",
       "               Green            3\n",
       "dtype: int64"
      ]
     },
     "execution_count": 107,
     "metadata": {},
     "output_type": "execute_result"
    }
   ],
   "source": [
    "color_country_data.groupby(['continent', 'color']).size()"
   ]
  },
  {
   "cell_type": "code",
   "execution_count": 109,
   "id": "a2f0b764-a4cd-49a5-9089-8af9637f3c03",
   "metadata": {},
   "outputs": [],
   "source": [
    "color_continent_data = color_country_data.groupby(['continent', 'color']).size().reset_index(name = 'count')"
   ]
  },
  {
   "cell_type": "code",
   "execution_count": 110,
   "id": "edf17a3a-6297-4ed4-8c86-a4be686b588c",
   "metadata": {},
   "outputs": [
    {
     "data": {
      "text/html": [
       "<div>\n",
       "<style scoped>\n",
       "    .dataframe tbody tr th:only-of-type {\n",
       "        vertical-align: middle;\n",
       "    }\n",
       "\n",
       "    .dataframe tbody tr th {\n",
       "        vertical-align: top;\n",
       "    }\n",
       "\n",
       "    .dataframe thead th {\n",
       "        text-align: right;\n",
       "    }\n",
       "</style>\n",
       "<table border=\"1\" class=\"dataframe\">\n",
       "  <thead>\n",
       "    <tr style=\"text-align: right;\">\n",
       "      <th></th>\n",
       "      <th>continent</th>\n",
       "      <th>color</th>\n",
       "      <th>count</th>\n",
       "    </tr>\n",
       "  </thead>\n",
       "  <tbody>\n",
       "    <tr>\n",
       "      <th>0</th>\n",
       "      <td>Africa</td>\n",
       "      <td>Blue-Green</td>\n",
       "      <td>3</td>\n",
       "    </tr>\n",
       "    <tr>\n",
       "      <th>1</th>\n",
       "      <td>Africa</td>\n",
       "      <td>Bluish-Green</td>\n",
       "      <td>5</td>\n",
       "    </tr>\n",
       "    <tr>\n",
       "      <th>2</th>\n",
       "      <td>Africa</td>\n",
       "      <td>Green</td>\n",
       "      <td>6</td>\n",
       "    </tr>\n",
       "    <tr>\n",
       "      <th>3</th>\n",
       "      <td>Asia</td>\n",
       "      <td>Blue-Green</td>\n",
       "      <td>6</td>\n",
       "    </tr>\n",
       "    <tr>\n",
       "      <th>4</th>\n",
       "      <td>Asia</td>\n",
       "      <td>Bluish-Green</td>\n",
       "      <td>7</td>\n",
       "    </tr>\n",
       "    <tr>\n",
       "      <th>5</th>\n",
       "      <td>Asia</td>\n",
       "      <td>Green</td>\n",
       "      <td>10</td>\n",
       "    </tr>\n",
       "    <tr>\n",
       "      <th>6</th>\n",
       "      <td>Australia</td>\n",
       "      <td>Bluish-Green</td>\n",
       "      <td>1</td>\n",
       "    </tr>\n",
       "    <tr>\n",
       "      <th>7</th>\n",
       "      <td>North America</td>\n",
       "      <td>Blue-Green</td>\n",
       "      <td>6</td>\n",
       "    </tr>\n",
       "    <tr>\n",
       "      <th>8</th>\n",
       "      <td>North America</td>\n",
       "      <td>Bluish-Green</td>\n",
       "      <td>8</td>\n",
       "    </tr>\n",
       "    <tr>\n",
       "      <th>9</th>\n",
       "      <td>North America</td>\n",
       "      <td>Green</td>\n",
       "      <td>9</td>\n",
       "    </tr>\n",
       "    <tr>\n",
       "      <th>10</th>\n",
       "      <td>South America</td>\n",
       "      <td>Blue-Green</td>\n",
       "      <td>3</td>\n",
       "    </tr>\n",
       "    <tr>\n",
       "      <th>11</th>\n",
       "      <td>South America</td>\n",
       "      <td>Bluish-Green</td>\n",
       "      <td>4</td>\n",
       "    </tr>\n",
       "    <tr>\n",
       "      <th>12</th>\n",
       "      <td>South America</td>\n",
       "      <td>Green</td>\n",
       "      <td>3</td>\n",
       "    </tr>\n",
       "  </tbody>\n",
       "</table>\n",
       "</div>"
      ],
      "text/plain": [
       "        continent         color  count\n",
       "0          Africa    Blue-Green      3\n",
       "1          Africa  Bluish-Green      5\n",
       "2          Africa         Green      6\n",
       "3            Asia    Blue-Green      6\n",
       "4            Asia  Bluish-Green      7\n",
       "5            Asia         Green     10\n",
       "6       Australia  Bluish-Green      1\n",
       "7   North America    Blue-Green      6\n",
       "8   North America  Bluish-Green      8\n",
       "9   North America         Green      9\n",
       "10  South America    Blue-Green      3\n",
       "11  South America  Bluish-Green      4\n",
       "12  South America         Green      3"
      ]
     },
     "execution_count": 110,
     "metadata": {},
     "output_type": "execute_result"
    }
   ],
   "source": [
    "color_continent_data"
   ]
  },
  {
   "cell_type": "code",
   "execution_count": 174,
   "id": "f02a4011-d16e-416a-b011-79faa94d47d1",
   "metadata": {},
   "outputs": [
    {
     "data": {
      "image/png": "[encoded data removed]",
      "text/plain": [
       "<Figure size 1000x600 with 1 Axes>"
      ]
     },
     "metadata": {},
     "output_type": "display_data"
    }
   ],
   "source": [
    "# Plotting the count of different colors coffee by continent\n",
    "plt.figure(figsize=(10, 6))\n",
    "sns.barplot(x = \"continent\", y = \"count\", hue = \"color\", data = color_continent_data)\n",
    "plt.title('Count of Coffee by Color and Continent')\n",
    "plt.xlabel('Continent')\n",
    "plt.ylabel('Count')\n",
    "plt.xticks(rotation=90)\n",
    "plt.legend(title='Coffee Color')\n",
    "plt.tight_layout()\n",
    "plt.show()"
   ]
  },
  {
   "cell_type": "code",
   "execution_count": 175,
   "id": "df8fa177-06dc-4abf-96f1-943d1da759bd",
   "metadata": {},
   "outputs": [
    {
     "data": {
      "text/plain": [
       "28"
      ]
     },
     "execution_count": 175,
     "metadata": {},
     "output_type": "execute_result"
    }
   ],
   "source": [
    "color_continent_data[color_continent_data.color == \"Green\"][\"count\"].sum() # checking the amount of green coffees"
   ]
  },
  {
   "cell_type": "code",
   "execution_count": 176,
   "id": "eb79d636-4bed-4985-97ad-d292ee333810",
   "metadata": {},
   "outputs": [
    {
     "data": {
      "text/plain": [
       "18"
      ]
     },
     "execution_count": 176,
     "metadata": {},
     "output_type": "execute_result"
    }
   ],
   "source": [
    "color_continent_data[color_continent_data.color == \"Blue-Green\"][\"count\"].sum() # checking the amount of green coffees"
   ]
  },
  {
   "cell_type": "code",
   "execution_count": 177,
   "id": "ee5b3eeb-e4bb-4673-9d38-be929c17f570",
   "metadata": {},
   "outputs": [
    {
     "data": {
      "text/plain": [
       "25"
      ]
     },
     "execution_count": 177,
     "metadata": {},
     "output_type": "execute_result"
    }
   ],
   "source": [
    "color_continent_data[color_continent_data.color == \"Bluish-Green\"][\"count\"].sum() # checking the amount of green coffees"
   ]
  },
  {
   "cell_type": "markdown",
   "id": "3a6185bc-ec7e-4144-88af-27d12feca796",
   "metadata": {},
   "source": [
    "<span style=\"color: green;\">The green coffee is farmed most frequently in Africa, Asia and North America.\n",
    "In South America, the bluish-green coffee is more frequently farmed than the other two types.\n",
    "In Australia, there are amounts of only bluish-green coffee.\n",
    "In general, the amounts of green coffee (summed across all continents) surpass those of bluish-green and blue-green coffees</span> "
   ]
  },
  {
   "cell_type": "markdown",
   "id": "27095ced-7179-4ee4-94d3-7d94450b4120",
   "metadata": {},
   "source": [
    "### Problem 9. Ratings (1 point)\n",
    "The columns `Aroma`, `Flavor`, etc., up to `Moisture` represent subjective ratings. Explore them. Show the means and range; draw histograms and / or boxplots as needed. You can even try correlations if you want. What's up with all those ratings?"
   ]
  },
  {
   "cell_type": "code",
   "execution_count": 179,
   "id": "d08ee355-dcbb-4657-a814-cdcfbd455c42",
   "metadata": {},
   "outputs": [],
   "source": [
    "var_ratings = ['aroma', 'flavor', 'aftertaste', 'acidity', 'body', 'balance', 'uniformity', 'clean_cup', 'sweetness', 'cupper_points', 'total_cup_points', 'moisture']"
   ]
  },
  {
   "cell_type": "code",
   "execution_count": 200,
   "id": "ee4d5a0e-7500-4b3e-ba71-531bf22f82ae",
   "metadata": {},
   "outputs": [
    {
     "data": {
      "image/png": "[encoded data removed]",
      "text/plain": [
       "<Figure size 1400x800 with 1 Axes>"
      ]
     },
     "metadata": {},
     "output_type": "display_data"
    }
   ],
   "source": [
    "# plotting the varaibles to show the distribution of their values. \n",
    "# the variables are plotted on three plots, since they are hardly distinguished if they are plotted all together. \n",
    "\n",
    "plt.figure(figsize=(14, 8))\n",
    "\n",
    "plt.hist(coffee_dataset_renamed[\"aroma\"], bins = 50, label = \"Aroma\", alpha = 0.6)\n",
    "plt.hist(coffee_dataset_renamed[\"flavor\"], bins = 50, label = \"Flavor\", alpha = 0.6)\n",
    "plt.hist(coffee_dataset_renamed[\"aftertaste\"], bins = 50, label = \"Aftertaste\", alpha = 0.6)\n",
    "plt.hist(coffee_dataset_renamed[\"body\"], bins = 50, label = \"Body\", alpha = 0.5)\n",
    "\n",
    "plt.xlabel(\"Rating\")\n",
    "plt.ylabel(\"Count\")\n",
    "plt.xlim(0, 10)\n",
    "plt.legend()\n",
    "\n",
    "plt.show()"
   ]
  },
  {
   "cell_type": "code",
   "execution_count": 201,
   "id": "82eabc10-8486-4313-a227-ca47ba8757b6",
   "metadata": {},
   "outputs": [
    {
     "data": {
      "image/png": "[encoded data removed]",
      "text/plain": [
       "<Figure size 1400x800 with 1 Axes>"
      ]
     },
     "metadata": {},
     "output_type": "display_data"
    }
   ],
   "source": [
    "plt.figure(figsize=(14, 8))\n",
    "\n",
    "plt.hist(coffee_dataset_renamed[\"acidity\"], bins = 50, label = \"Acidity\", alpha = 0.4)\n",
    "plt.hist(coffee_dataset_renamed[\"balance\"], bins = 50, label = \"Balance\", alpha = 0.3)\n",
    "plt.hist(coffee_dataset_renamed[\"uniformity\"], bins = 50, label = \"Uniformity\", alpha = 0.4)\n",
    "plt.hist(coffee_dataset_renamed[\"sweetness\"], bins = 50, label = \"Sweetness\", alpha = 0.4)\n",
    "plt.hist(coffee_dataset_renamed[\"moisture\"], bins = 50, label = \"Moisture\", alpha = 0.6)\n",
    "\n",
    "plt.xlabel(\"Rating\")\n",
    "plt.ylabel(\"Count\")\n",
    "plt.xlim(0, 10)\n",
    "plt.legend()\n",
    "\n",
    "plt.show()"
   ]
  },
  {
   "cell_type": "code",
   "execution_count": 190,
   "id": "068857b7-0491-4e21-9ce0-1025d76016d7",
   "metadata": {},
   "outputs": [
    {
     "data": {
      "image/png": "[encoded data removed]",
      "text/plain": [
       "<Figure size 1200x800 with 1 Axes>"
      ]
     },
     "metadata": {},
     "output_type": "display_data"
    }
   ],
   "source": [
    "plt.figure(figsize=(12, 8))\n",
    "\n",
    "plt.hist(coffee_dataset_renamed[\"total_cup_points\"], bins = 50, label = \"Total cup points\", alpha = 0.6)\n",
    "plt.hist(coffee_dataset_renamed[\"cupper_points\"], bins = 50, label = \"Cupper points\", alpha = 0.6)\n",
    "\n",
    "plt.xlabel(\"Rating\")\n",
    "plt.ylabel(\"Count\")\n",
    "plt.xlim(0, 10)\n",
    "plt.legend()\n",
    "\n",
    "plt.show()"
   ]
  },
  {
   "cell_type": "code",
   "execution_count": 206,
   "id": "4823a174-c956-410a-9e36-bcc98e7a33cd",
   "metadata": {},
   "outputs": [],
   "source": [
    "# calculating mean, min and max for each variable\n",
    "\n",
    "means = []\n",
    "mins = []\n",
    "maxs = []\n",
    "\n",
    "\n",
    "for var in var_ratings:\n",
    "    means.append(coffee_dataset_renamed[var].mean())\n",
    "    mins.append(coffee_dataset_renamed[var].min())\n",
    "    maxs.append(coffee_dataset_renamed[var].max())\n",
    "\n",
    "# Create a summary DataFrame\n",
    "var_stats = pd.DataFrame({\n",
    "    'Variable': var_ratings,\n",
    "    'Mean': means,\n",
    "    'Min': mins,\n",
    "    'Max': maxs\n",
    "})\n"
   ]
  },
  {
   "cell_type": "code",
   "execution_count": 203,
   "id": "146eee70-d32e-45ed-a037-fad9eec8e4b5",
   "metadata": {},
   "outputs": [
    {
     "data": {
      "text/html": [
       "<div>\n",
       "<style scoped>\n",
       "    .dataframe tbody tr th:only-of-type {\n",
       "        vertical-align: middle;\n",
       "    }\n",
       "\n",
       "    .dataframe tbody tr th {\n",
       "        vertical-align: top;\n",
       "    }\n",
       "\n",
       "    .dataframe thead th {\n",
       "        text-align: right;\n",
       "    }\n",
       "</style>\n",
       "<table border=\"1\" class=\"dataframe\">\n",
       "  <thead>\n",
       "    <tr style=\"text-align: right;\">\n",
       "      <th></th>\n",
       "      <th>Variable</th>\n",
       "      <th>Mean</th>\n",
       "      <th>Min</th>\n",
       "      <th>Max</th>\n",
       "    </tr>\n",
       "  </thead>\n",
       "  <tbody>\n",
       "    <tr>\n",
       "      <th>0</th>\n",
       "      <td>aroma</td>\n",
       "      <td>7.566706</td>\n",
       "      <td>0.0</td>\n",
       "      <td>8.75</td>\n",
       "    </tr>\n",
       "    <tr>\n",
       "      <th>1</th>\n",
       "      <td>flavor</td>\n",
       "      <td>7.520426</td>\n",
       "      <td>0.0</td>\n",
       "      <td>8.83</td>\n",
       "    </tr>\n",
       "    <tr>\n",
       "      <th>2</th>\n",
       "      <td>aftertaste</td>\n",
       "      <td>7.401083</td>\n",
       "      <td>0.0</td>\n",
       "      <td>8.67</td>\n",
       "    </tr>\n",
       "    <tr>\n",
       "      <th>3</th>\n",
       "      <td>acidity</td>\n",
       "      <td>7.535706</td>\n",
       "      <td>0.0</td>\n",
       "      <td>8.75</td>\n",
       "    </tr>\n",
       "    <tr>\n",
       "      <th>4</th>\n",
       "      <td>body</td>\n",
       "      <td>7.517498</td>\n",
       "      <td>0.0</td>\n",
       "      <td>8.58</td>\n",
       "    </tr>\n",
       "    <tr>\n",
       "      <th>5</th>\n",
       "      <td>balance</td>\n",
       "      <td>7.518013</td>\n",
       "      <td>0.0</td>\n",
       "      <td>8.75</td>\n",
       "    </tr>\n",
       "    <tr>\n",
       "      <th>6</th>\n",
       "      <td>uniformity</td>\n",
       "      <td>9.834877</td>\n",
       "      <td>0.0</td>\n",
       "      <td>10.00</td>\n",
       "    </tr>\n",
       "    <tr>\n",
       "      <th>7</th>\n",
       "      <td>clean_cup</td>\n",
       "      <td>9.835108</td>\n",
       "      <td>0.0</td>\n",
       "      <td>10.00</td>\n",
       "    </tr>\n",
       "    <tr>\n",
       "      <th>8</th>\n",
       "      <td>sweetness</td>\n",
       "      <td>9.856692</td>\n",
       "      <td>0.0</td>\n",
       "      <td>10.00</td>\n",
       "    </tr>\n",
       "    <tr>\n",
       "      <th>9</th>\n",
       "      <td>cupper_points</td>\n",
       "      <td>7.503376</td>\n",
       "      <td>0.0</td>\n",
       "      <td>10.00</td>\n",
       "    </tr>\n",
       "    <tr>\n",
       "      <th>10</th>\n",
       "      <td>total_cup_points</td>\n",
       "      <td>82.089851</td>\n",
       "      <td>0.0</td>\n",
       "      <td>90.58</td>\n",
       "    </tr>\n",
       "    <tr>\n",
       "      <th>11</th>\n",
       "      <td>moisture</td>\n",
       "      <td>0.088379</td>\n",
       "      <td>0.0</td>\n",
       "      <td>0.28</td>\n",
       "    </tr>\n",
       "  </tbody>\n",
       "</table>\n",
       "</div>"
      ],
      "text/plain": [
       "            Variable       Mean  Min    Max\n",
       "0              aroma   7.566706  0.0   8.75\n",
       "1             flavor   7.520426  0.0   8.83\n",
       "2         aftertaste   7.401083  0.0   8.67\n",
       "3            acidity   7.535706  0.0   8.75\n",
       "4               body   7.517498  0.0   8.58\n",
       "5            balance   7.518013  0.0   8.75\n",
       "6         uniformity   9.834877  0.0  10.00\n",
       "7          clean_cup   9.835108  0.0  10.00\n",
       "8          sweetness   9.856692  0.0  10.00\n",
       "9      cupper_points   7.503376  0.0  10.00\n",
       "10  total_cup_points  82.089851  0.0  90.58\n",
       "11          moisture   0.088379  0.0   0.28"
      ]
     },
     "execution_count": 203,
     "metadata": {},
     "output_type": "execute_result"
    }
   ],
   "source": [
    "var_stats"
   ]
  },
  {
   "cell_type": "code",
   "execution_count": 212,
   "id": "a842d05b-5c4e-4b40-933d-9c447882ebf3",
   "metadata": {},
   "outputs": [],
   "source": [
    "# since there is cases with values 0, it should be cleaned from the dataset \n",
    "coffee_dataset_renamed = coffee_dataset_renamed[coffee_dataset_renamed.clean_cup > 0]"
   ]
  },
  {
   "cell_type": "code",
   "execution_count": 213,
   "id": "e81a893d-0706-4062-b557-a7bd11752d9d",
   "metadata": {},
   "outputs": [
    {
     "data": {
      "text/html": [
       "<div>\n",
       "<style scoped>\n",
       "    .dataframe tbody tr th:only-of-type {\n",
       "        vertical-align: middle;\n",
       "    }\n",
       "\n",
       "    .dataframe tbody tr th {\n",
       "        vertical-align: top;\n",
       "    }\n",
       "\n",
       "    .dataframe thead th {\n",
       "        text-align: right;\n",
       "    }\n",
       "</style>\n",
       "<table border=\"1\" class=\"dataframe\">\n",
       "  <thead>\n",
       "    <tr style=\"text-align: right;\">\n",
       "      <th></th>\n",
       "      <th>Variable</th>\n",
       "      <th>Mean</th>\n",
       "      <th>Min</th>\n",
       "      <th>Max</th>\n",
       "    </tr>\n",
       "  </thead>\n",
       "  <tbody>\n",
       "    <tr>\n",
       "      <th>0</th>\n",
       "      <td>aroma</td>\n",
       "      <td>7.572730</td>\n",
       "      <td>5.08</td>\n",
       "      <td>8.75</td>\n",
       "    </tr>\n",
       "    <tr>\n",
       "      <th>1</th>\n",
       "      <td>flavor</td>\n",
       "      <td>7.526567</td>\n",
       "      <td>6.08</td>\n",
       "      <td>8.83</td>\n",
       "    </tr>\n",
       "    <tr>\n",
       "      <th>2</th>\n",
       "      <td>aftertaste</td>\n",
       "      <td>7.407479</td>\n",
       "      <td>6.17</td>\n",
       "      <td>8.67</td>\n",
       "    </tr>\n",
       "    <tr>\n",
       "      <th>3</th>\n",
       "      <td>acidity</td>\n",
       "      <td>7.541429</td>\n",
       "      <td>5.25</td>\n",
       "      <td>8.75</td>\n",
       "    </tr>\n",
       "    <tr>\n",
       "      <th>4</th>\n",
       "      <td>body</td>\n",
       "      <td>7.523321</td>\n",
       "      <td>5.08</td>\n",
       "      <td>8.58</td>\n",
       "    </tr>\n",
       "    <tr>\n",
       "      <th>5</th>\n",
       "      <td>balance</td>\n",
       "      <td>7.524211</td>\n",
       "      <td>5.25</td>\n",
       "      <td>8.75</td>\n",
       "    </tr>\n",
       "    <tr>\n",
       "      <th>6</th>\n",
       "      <td>uniformity</td>\n",
       "      <td>9.842109</td>\n",
       "      <td>6.00</td>\n",
       "      <td>10.00</td>\n",
       "    </tr>\n",
       "    <tr>\n",
       "      <th>7</th>\n",
       "      <td>clean_cup</td>\n",
       "      <td>9.849820</td>\n",
       "      <td>1.33</td>\n",
       "      <td>10.00</td>\n",
       "    </tr>\n",
       "    <tr>\n",
       "      <th>8</th>\n",
       "      <td>sweetness</td>\n",
       "      <td>9.863957</td>\n",
       "      <td>1.33</td>\n",
       "      <td>10.00</td>\n",
       "    </tr>\n",
       "    <tr>\n",
       "      <th>9</th>\n",
       "      <td>cupper_points</td>\n",
       "      <td>7.509551</td>\n",
       "      <td>5.17</td>\n",
       "      <td>10.00</td>\n",
       "    </tr>\n",
       "    <tr>\n",
       "      <th>10</th>\n",
       "      <td>total_cup_points</td>\n",
       "      <td>82.161541</td>\n",
       "      <td>59.83</td>\n",
       "      <td>90.58</td>\n",
       "    </tr>\n",
       "    <tr>\n",
       "      <th>11</th>\n",
       "      <td>moisture</td>\n",
       "      <td>0.088340</td>\n",
       "      <td>0.00</td>\n",
       "      <td>0.28</td>\n",
       "    </tr>\n",
       "  </tbody>\n",
       "</table>\n",
       "</div>"
      ],
      "text/plain": [
       "            Variable       Mean    Min    Max\n",
       "0              aroma   7.572730   5.08   8.75\n",
       "1             flavor   7.526567   6.08   8.83\n",
       "2         aftertaste   7.407479   6.17   8.67\n",
       "3            acidity   7.541429   5.25   8.75\n",
       "4               body   7.523321   5.08   8.58\n",
       "5            balance   7.524211   5.25   8.75\n",
       "6         uniformity   9.842109   6.00  10.00\n",
       "7          clean_cup   9.849820   1.33  10.00\n",
       "8          sweetness   9.863957   1.33  10.00\n",
       "9      cupper_points   7.509551   5.17  10.00\n",
       "10  total_cup_points  82.161541  59.83  90.58\n",
       "11          moisture   0.088340   0.00   0.28"
      ]
     },
     "execution_count": 213,
     "metadata": {},
     "output_type": "execute_result"
    }
   ],
   "source": [
    "# calculating mean, min and max for each variable on the cleaned dataset\n",
    "\n",
    "means = []\n",
    "mins = []\n",
    "maxs = []\n",
    "\n",
    "\n",
    "for var in var_ratings:\n",
    "    means.append(coffee_dataset_renamed[var].mean())\n",
    "    mins.append(coffee_dataset_renamed[var].min())\n",
    "    maxs.append(coffee_dataset_renamed[var].max())\n",
    "\n",
    "# Create a summary DataFrame\n",
    "var_stats = pd.DataFrame({\n",
    "    'Variable': var_ratings,\n",
    "    'Mean': means,\n",
    "    'Min': mins,\n",
    "    'Max': maxs\n",
    "})\n",
    "\n",
    "var_stats"
   ]
  },
  {
   "cell_type": "markdown",
   "id": "9738834c-c85a-4560-a040-48d9b02144f2",
   "metadata": {},
   "source": [
    "<span style=\"color: green;\">Seven of the characteristics of the coffee (aroma, flavor, aftertaste, acidity, body, balance, and cupper_points) have mean ratings of 7.5, 3 of them (uniformity, clean_cup, sweetness) have mean values of about 9.8, the total_cup_points has a mean of 82.2, while the moisture has very small values with mean of 0.09. \n",
    "So most of variables are rated in the higher half of the rating scale.</span> "
   ]
  },
  {
   "cell_type": "code",
   "execution_count": 211,
   "id": "d2bb1ef1-e255-4b13-9113-aaeafe80e34b",
   "metadata": {},
   "outputs": [
    {
     "data": {
      "text/plain": [
       "<Axes: >"
      ]
     },
     "execution_count": 211,
     "metadata": {},
     "output_type": "execute_result"
    },
    {
     "data": {
      "image/png": "[encoded data removed]",
      "text/plain": [
       "<Figure size 1200x800 with 2 Axes>"
      ]
     },
     "metadata": {},
     "output_type": "display_data"
    }
   ],
   "source": [
    "correlation_matrix = coffee_dataset_renamed[var_ratings].corr(\"spearman\")\n",
    "plt.figure(figsize=(12, 8))\n",
    "sns.heatmap(correlation_matrix, annot = True, annot_kws={\"va\": \"center\"}, fmt = \".2f\", cbar = True, cmap = plt.cm.rainbow)"
   ]
  },
  {
   "cell_type": "markdown",
   "id": "b1155356-5970-4458-8412-86b4a7c32636",
   "metadata": {},
   "source": [
    "<span style=\"color: green;\">The first six variables correlate from moderate to strong with each other.\n",
    "The points variables (cupper_points and total_cup_points) correlate more strongly with flavour, aftertaste and balance as well as with each other.\n",
    "Uniformity and clean_cup correlate weakly with the other variables, except with each other where the correlation is moderate.\n",
    "The sweetness and moisture correlate weakly and mostlt negative with the other variables.</span>"
   ]
  },
  {
   "cell_type": "markdown",
   "id": "92054218-978d-48c6-b7aa-36226837354c",
   "metadata": {},
   "source": [
    "### Problem 10. High-level errors (1 point)\n",
    "Check the countries against region names, altitudes, and companies. Are there any discrepancies (e.g. human errors, like a region not matching the country)? Take a look at the (cleaned) altitudes; there has been a lot of preprocessing done to them. Was it done correctly?"
   ]
  },
  {
   "cell_type": "code",
   "execution_count": 219,
   "id": "a971e5dd-4bb1-4ad6-bcbc-3cceab758f5d",
   "metadata": {},
   "outputs": [
    {
     "data": {
      "text/plain": [
       "country_of_origin  region                   \n",
       "Brazil             alta paulista (sao paulo)     1\n",
       "                   brazil matas de minas         1\n",
       "                   campos altos - cerrado        4\n",
       "                   carmo de minas                2\n",
       "                   cerrado                      12\n",
       "                                                ..\n",
       "Vietnam            don duong                     2\n",
       "                   vietnam                       1\n",
       "                   vietnam cau dat               1\n",
       "                   vietnam tutra                 1\n",
       "Zambia             mubuyu estate                 1\n",
       "Length: 361, dtype: int64"
      ]
     },
     "execution_count": 219,
     "metadata": {},
     "output_type": "execute_result"
    }
   ],
   "source": [
    "# grouping data by country and region\n",
    "coffee_dataset_renamed.groupby(['country_of_origin', 'region']).size()"
   ]
  },
  {
   "cell_type": "code",
   "execution_count": 222,
   "id": "c3deb75f-974b-4718-b656-44a257cccaa3",
   "metadata": {},
   "outputs": [],
   "source": [
    "country_region_dataset = coffee_dataset_renamed.groupby(['country_of_origin', 'region']).size().reset_index(name = 'count')"
   ]
  },
  {
   "cell_type": "code",
   "execution_count": 223,
   "id": "1d9cbde1-2532-45b9-ae64-b11466729188",
   "metadata": {},
   "outputs": [
    {
     "data": {
      "text/html": [
       "<div>\n",
       "<style scoped>\n",
       "    .dataframe tbody tr th:only-of-type {\n",
       "        vertical-align: middle;\n",
       "    }\n",
       "\n",
       "    .dataframe tbody tr th {\n",
       "        vertical-align: top;\n",
       "    }\n",
       "\n",
       "    .dataframe thead th {\n",
       "        text-align: right;\n",
       "    }\n",
       "</style>\n",
       "<table border=\"1\" class=\"dataframe\">\n",
       "  <thead>\n",
       "    <tr style=\"text-align: right;\">\n",
       "      <th></th>\n",
       "      <th>country_of_origin</th>\n",
       "      <th>region</th>\n",
       "      <th>count</th>\n",
       "    </tr>\n",
       "  </thead>\n",
       "  <tbody>\n",
       "    <tr>\n",
       "      <th>0</th>\n",
       "      <td>Brazil</td>\n",
       "      <td>alta paulista (sao paulo)</td>\n",
       "      <td>1</td>\n",
       "    </tr>\n",
       "    <tr>\n",
       "      <th>1</th>\n",
       "      <td>Brazil</td>\n",
       "      <td>brazil matas de minas</td>\n",
       "      <td>1</td>\n",
       "    </tr>\n",
       "    <tr>\n",
       "      <th>2</th>\n",
       "      <td>Brazil</td>\n",
       "      <td>campos altos - cerrado</td>\n",
       "      <td>4</td>\n",
       "    </tr>\n",
       "    <tr>\n",
       "      <th>3</th>\n",
       "      <td>Brazil</td>\n",
       "      <td>carmo de minas</td>\n",
       "      <td>2</td>\n",
       "    </tr>\n",
       "    <tr>\n",
       "      <th>4</th>\n",
       "      <td>Brazil</td>\n",
       "      <td>cerrado</td>\n",
       "      <td>12</td>\n",
       "    </tr>\n",
       "    <tr>\n",
       "      <th>...</th>\n",
       "      <td>...</td>\n",
       "      <td>...</td>\n",
       "      <td>...</td>\n",
       "    </tr>\n",
       "    <tr>\n",
       "      <th>356</th>\n",
       "      <td>Vietnam</td>\n",
       "      <td>don duong</td>\n",
       "      <td>2</td>\n",
       "    </tr>\n",
       "    <tr>\n",
       "      <th>357</th>\n",
       "      <td>Vietnam</td>\n",
       "      <td>vietnam</td>\n",
       "      <td>1</td>\n",
       "    </tr>\n",
       "    <tr>\n",
       "      <th>358</th>\n",
       "      <td>Vietnam</td>\n",
       "      <td>vietnam cau dat</td>\n",
       "      <td>1</td>\n",
       "    </tr>\n",
       "    <tr>\n",
       "      <th>359</th>\n",
       "      <td>Vietnam</td>\n",
       "      <td>vietnam tutra</td>\n",
       "      <td>1</td>\n",
       "    </tr>\n",
       "    <tr>\n",
       "      <th>360</th>\n",
       "      <td>Zambia</td>\n",
       "      <td>mubuyu estate</td>\n",
       "      <td>1</td>\n",
       "    </tr>\n",
       "  </tbody>\n",
       "</table>\n",
       "<p>361 rows × 3 columns</p>\n",
       "</div>"
      ],
      "text/plain": [
       "    country_of_origin                     region  count\n",
       "0              Brazil  alta paulista (sao paulo)      1\n",
       "1              Brazil      brazil matas de minas      1\n",
       "2              Brazil     campos altos - cerrado      4\n",
       "3              Brazil             carmo de minas      2\n",
       "4              Brazil                    cerrado     12\n",
       "..                ...                        ...    ...\n",
       "356           Vietnam                  don duong      2\n",
       "357           Vietnam                    vietnam      1\n",
       "358           Vietnam            vietnam cau dat      1\n",
       "359           Vietnam              vietnam tutra      1\n",
       "360            Zambia              mubuyu estate      1\n",
       "\n",
       "[361 rows x 3 columns]"
      ]
     },
     "execution_count": 223,
     "metadata": {},
     "output_type": "execute_result"
    }
   ],
   "source": [
    "country_region_dataset"
   ]
  },
  {
   "cell_type": "code",
   "execution_count": 234,
   "id": "24239e3b-62aa-4d6c-8fb1-7874ebe9f361",
   "metadata": {},
   "outputs": [
    {
     "data": {
      "image/png": "[encoded data removed]",
      "text/plain": [
       "<Figure size 1400x600 with 1 Axes>"
      ]
     },
     "metadata": {},
     "output_type": "display_data"
    }
   ],
   "source": [
    "# Plotting the amount of coffee by regions in Brazil\n",
    "plt.figure(figsize=(14, 6))\n",
    "sns.barplot(data = country_region_dataset[country_region_dataset.country_of_origin == \"Brazil\"], x = 'country_of_origin', y = 'count', hue = 'region')\n",
    "plt.title('Count of Coffee by Regions in Brazil')\n",
    "plt.xlabel('Regions in Brazil')\n",
    "plt.ylabel('Amount')\n",
    "\n",
    "plt.legend(title='Region', bbox_to_anchor=(1.05, 1), loc='upper left')\n",
    "plt.legend()\n",
    "\n",
    "plt.tight_layout()\n",
    "plt.show()"
   ]
  },
  {
   "cell_type": "code",
   "execution_count": 216,
   "id": "93436e7f-0f46-48b8-8eb9-01d8b3f51220",
   "metadata": {},
   "outputs": [
    {
     "data": {
      "text/plain": [
       "country_of_origin            altitude_mean_meters\n",
       "Brazil                       1.00                    11\n",
       "                             12.00                    2\n",
       "                             125.00                   1\n",
       "                             695.00                   1\n",
       "                             872.00                   1\n",
       "                                                     ..\n",
       "United States (Hawaii)       609.60                   1\n",
       "United States (Puerto Rico)  853.44                   4\n",
       "Vietnam                      1040.00                  4\n",
       "                             1550.00                  3\n",
       "Zambia                       1250.00                  1\n",
       "Length: 379, dtype: int64"
      ]
     },
     "execution_count": 216,
     "metadata": {},
     "output_type": "execute_result"
    }
   ],
   "source": [
    "# grouping data by country and mean altitude\n",
    "coffee_dataset_renamed.groupby(['country_of_origin', 'altitude_mean_meters']).size()"
   ]
  },
  {
   "cell_type": "code",
   "execution_count": 218,
   "id": "70519833-06b6-413e-9f37-fc05190d0526",
   "metadata": {},
   "outputs": [
    {
     "data": {
      "text/plain": [
       "country_of_origin            company                                \n",
       "Brazil                       atlantica eportacao e importcao ltda        1\n",
       "                             bourbon specialty coffees                  17\n",
       "                             cafe politico                               1\n",
       "                             cafebras comercio de cafés do brasil sa     4\n",
       "                             café do paraíso                             2\n",
       "                                                                        ..\n",
       "United States (Puerto Rico)  hacienda alto grande, llc.                  4\n",
       "Vietnam                      cafe politico                               1\n",
       "                             royal base corporation                      2\n",
       "                             sunvirtue co., ltd.                         5\n",
       "Zambia                       lusso coffee lab                            1\n",
       "Length: 315, dtype: int64"
      ]
     },
     "execution_count": 218,
     "metadata": {},
     "output_type": "execute_result"
    }
   ],
   "source": [
    "# grouping data by country and company\n",
    "coffee_dataset_renamed.groupby(['country_of_origin', 'company']).size()"
   ]
  },
  {
   "cell_type": "code",
   "execution_count": null,
   "id": "f15664dd-69a0-42a9-987a-204d5f0eda56",
   "metadata": {},
   "outputs": [],
   "source": []
  },
  {
   "cell_type": "markdown",
   "id": "3c3b5118-9f8e-45c2-a200-1be89fa4b3bf",
   "metadata": {},
   "source": [
    "### * Problem 11. Clean and explore at will\n",
    "The dataset claimed to be clean, but we were able to discover a lot of things to fix and do better.\n",
    "\n",
    "Play around with the data as much as you wish, and if you find variables to tidy up and clean - by all means, do that!"
   ]
  },
  {
   "cell_type": "code",
   "execution_count": null,
   "id": "928732cf-7ef4-471a-9818-139dd519eb45",
   "metadata": {},
   "outputs": [],
   "source": []
  }
 ],
 "metadata": {
  "kernelspec": {
   "display_name": "Python 3 (ipykernel)",
   "language": "python",
   "name": "python3"
  },
  "language_info": {
   "codemirror_mode": {
    "name": "ipython",
    "version": 3
   },
   "file_extension": ".py",
   "mimetype": "text/x-python",
   "name": "python",
   "nbconvert_exporter": "python",
   "pygments_lexer": "ipython3",
   "version": "3.11.7"
  }
 },
 "nbformat": 4,
 "nbformat_minor": 5
}
